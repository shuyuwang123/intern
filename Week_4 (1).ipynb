{
  "nbformat": 4,
  "nbformat_minor": 0,
  "metadata": {
    "colab": {
      "provenance": [],
      "gpuType": "T4",
      "machine_shape": "hm"
    },
    "kernelspec": {
      "name": "python3",
      "display_name": "Python 3"
    },
    "language_info": {
      "name": "python"
    },
    "accelerator": "GPU"
  },
  "cells": [
    {
      "cell_type": "code",
      "execution_count": 2,
      "metadata": {
        "colab": {
          "base_uri": "https://localhost:8080/"
        },
        "id": "4UiciySMg0mB",
        "outputId": "0e0012d4-25f4-40c9-813c-94b7454be026"
      },
      "outputs": [
        {
          "output_type": "stream",
          "name": "stdout",
          "text": [
            "Mounted at /content/gdrive\n"
          ]
        }
      ],
      "source": [
        "from google.colab import drive\n",
        "drive.mount('/content/gdrive')"
      ]
    },
    {
      "cell_type": "code",
      "source": [
        "import numpy as np\n",
        "import pandas as pd\n",
        "from sklearn.preprocessing import StandardScaler\n",
        "import tensorflow as tf\n",
        "from tensorflow.keras import layers, models\n",
        "from sklearn.model_selection import train_test_split\n",
        "from sklearn.metrics import classification_report, confusion_matrix\n",
        "import matplotlib.pyplot as plt\n",
        "from tensorflow.keras import backend as K\n",
        "from keras.callbacks import EarlyStopping"
      ],
      "metadata": {
        "id": "uJNxZV-UhGBX"
      },
      "execution_count": 8,
      "outputs": []
    },
    {
      "cell_type": "code",
      "source": [
        "df0718 = pd.read_csv('/content/gdrive/MyDrive/dataset/0718.csv')\n",
        "df0721 = pd.read_csv('/content/gdrive/MyDrive/dataset/0721.csv')\n",
        "df0722 = pd.read_csv('/content/gdrive/MyDrive/dataset/0722.csv')\n",
        "df0723 = pd.read_csv('/content/gdrive/MyDrive/dataset/0723.csv')\n",
        "df0724 = pd.read_csv('/content/gdrive/MyDrive/dataset/0724.csv')\n",
        "df0728 = pd.read_csv('/content/gdrive/MyDrive/dataset/0728.csv')\n",
        "df0729 = pd.read_csv('/content/gdrive/MyDrive/dataset/0729.csv')\n",
        "df0730 = pd.read_csv('/content/gdrive/MyDrive/dataset/0730.csv')\n",
        "\n",
        "# 考虑将跨日数据合并\n",
        "df = pd.concat([df0718, df0721, df0722, df0723, df0724, df0728, df0729, df0730], ignore_index=True)\n",
        "df['Vwap_ETFPrice'] = (df['ETFBidPrice1']*df['ETFBidVol1'] + df['ETFAskPrice1']*df['ETFAskVol1'])/(df['ETFBidVol1'] + df['ETFAskVol1'])\n",
        "df"
      ],
      "metadata": {
        "colab": {
          "base_uri": "https://localhost:8080/",
          "height": 530
        },
        "id": "-ZfR2HH3hZ3y",
        "outputId": "8237f0c9-fd6a-42a0-9e2e-5f47b282471f"
      },
      "execution_count": 4,
      "outputs": [
        {
          "output_type": "execute_result",
          "data": {
            "text/plain": [
              "                             index  bidforward  askforward  midforward     K  \\\n",
              "0                          35:01.1      2.2597      2.2594     2.25955  2.25   \n",
              "1                          35:01.6      2.2595      2.2592     2.25935  2.25   \n",
              "2                          35:02.1      2.2599      2.2596     2.25975  2.25   \n",
              "3                          35:02.6      2.2603      2.2599     2.26010  2.25   \n",
              "4                          35:03.1      2.2606      2.2604     2.26050  2.25   \n",
              "...                            ...         ...         ...         ...   ...   \n",
              "220744  1900-01-01 14:56:58.104885      2.3445      2.3441     2.34430  2.35   \n",
              "220745  1900-01-01 14:56:58.604649      2.3445      2.3441     2.34430  2.35   \n",
              "220746  1900-01-01 14:56:59.104586      2.3445      2.3440     2.34425  2.35   \n",
              "220747  1900-01-01 14:56:59.604697      2.3444      2.3441     2.34425  2.30   \n",
              "220748  1900-01-01 15:00:00.715683      2.3442      2.3438     2.34400  2.35   \n",
              "\n",
              "               Vwap  BidPrice1  BidPrice2  AskPrice1  AskPrice2  ...  AskVol2  \\\n",
              "0       6105.500000     6105.4     6103.0     6105.6     6105.8  ...      1.0   \n",
              "1       6105.400000     6103.0     6102.6     6105.2     6105.4  ...      2.0   \n",
              "2       6105.466667     6104.2     6104.0     6105.4     6106.2  ...      2.0   \n",
              "3       6105.500000     6105.8     6105.4     6106.2     6106.4  ...      4.0   \n",
              "4       6106.200000     6106.0     6105.8     6106.4     6106.8  ...      2.0   \n",
              "...             ...        ...        ...        ...        ...  ...      ...   \n",
              "220744  6279.800000     6279.8     6279.6     6280.2     6280.8  ...      4.0   \n",
              "220745  6279.800000     6279.8     6279.6     6280.0     6280.2  ...      2.0   \n",
              "220746  6279.800000     6279.8     6279.6     6280.0     6280.2  ...      2.0   \n",
              "220747  6279.800000     6279.8     6279.6     6280.0     6280.2  ...      2.0   \n",
              "220748  6271.200000     6270.0     6269.6     6271.0     6274.2  ...      3.0   \n",
              "\n",
              "           iopv  ETFBidPrice1  ETFAskPrice1  ETFBidVol1  ETFAskVol1  \\\n",
              "0       2.26748         2.263         2.264    794500.0   1443600.0   \n",
              "1       2.26766         2.263         2.264    786400.0   1377800.0   \n",
              "2       2.26754         2.263         2.264    786400.0    377800.0   \n",
              "3       2.26757         2.263         2.264    587800.0    387700.0   \n",
              "4       2.26785         2.263         2.264   2174400.0    254200.0   \n",
              "...         ...           ...           ...         ...         ...   \n",
              "220744  2.33959         2.345         2.346   3889100.0   2438800.0   \n",
              "220745  2.33956         2.345         2.346   3797800.0   2384800.0   \n",
              "220746  2.33957         2.345         2.346   3797800.0   1708400.0   \n",
              "220747  2.33958         2.345         2.346   3772500.0   1678100.0   \n",
              "220748  2.33956         2.345         2.346   3463100.0   1692600.0   \n",
              "\n",
              "           ETFVolume  ETFLastPrice  ETFTotalValueTraded  Vwap_ETFPrice  \n",
              "0       1.145978e+08         2.263         2.590122e+08       2.263645  \n",
              "1       1.147018e+08         2.264         2.592476e+08       2.263637  \n",
              "2       1.157018e+08         2.264         2.615116e+08       2.263325  \n",
              "3       1.159029e+08         2.264         2.619667e+08       2.263397  \n",
              "4       1.159069e+08         2.264         2.619758e+08       2.263105  \n",
              "...              ...           ...                  ...            ...  \n",
              "220744  1.781350e+09         2.346         4.193257e+09       2.345385  \n",
              "220745  1.781501e+09         2.345         4.193610e+09       2.345386  \n",
              "220746  1.781507e+09         2.346         4.193623e+09       2.345310  \n",
              "220747  1.781547e+09         2.345         4.193718e+09       2.345308  \n",
              "220748  1.781857e+09         2.345         4.194445e+09       2.345328  \n",
              "\n",
              "[220749 rows x 23 columns]"
            ],
            "text/html": [
              "\n",
              "  <div id=\"df-8108b77d-a0d3-4d25-a62a-d1af177e1dc6\" class=\"colab-df-container\">\n",
              "    <div>\n",
              "<style scoped>\n",
              "    .dataframe tbody tr th:only-of-type {\n",
              "        vertical-align: middle;\n",
              "    }\n",
              "\n",
              "    .dataframe tbody tr th {\n",
              "        vertical-align: top;\n",
              "    }\n",
              "\n",
              "    .dataframe thead th {\n",
              "        text-align: right;\n",
              "    }\n",
              "</style>\n",
              "<table border=\"1\" class=\"dataframe\">\n",
              "  <thead>\n",
              "    <tr style=\"text-align: right;\">\n",
              "      <th></th>\n",
              "      <th>index</th>\n",
              "      <th>bidforward</th>\n",
              "      <th>askforward</th>\n",
              "      <th>midforward</th>\n",
              "      <th>K</th>\n",
              "      <th>Vwap</th>\n",
              "      <th>BidPrice1</th>\n",
              "      <th>BidPrice2</th>\n",
              "      <th>AskPrice1</th>\n",
              "      <th>AskPrice2</th>\n",
              "      <th>...</th>\n",
              "      <th>AskVol2</th>\n",
              "      <th>iopv</th>\n",
              "      <th>ETFBidPrice1</th>\n",
              "      <th>ETFAskPrice1</th>\n",
              "      <th>ETFBidVol1</th>\n",
              "      <th>ETFAskVol1</th>\n",
              "      <th>ETFVolume</th>\n",
              "      <th>ETFLastPrice</th>\n",
              "      <th>ETFTotalValueTraded</th>\n",
              "      <th>Vwap_ETFPrice</th>\n",
              "    </tr>\n",
              "  </thead>\n",
              "  <tbody>\n",
              "    <tr>\n",
              "      <th>0</th>\n",
              "      <td>35:01.1</td>\n",
              "      <td>2.2597</td>\n",
              "      <td>2.2594</td>\n",
              "      <td>2.25955</td>\n",
              "      <td>2.25</td>\n",
              "      <td>6105.500000</td>\n",
              "      <td>6105.4</td>\n",
              "      <td>6103.0</td>\n",
              "      <td>6105.6</td>\n",
              "      <td>6105.8</td>\n",
              "      <td>...</td>\n",
              "      <td>1.0</td>\n",
              "      <td>2.26748</td>\n",
              "      <td>2.263</td>\n",
              "      <td>2.264</td>\n",
              "      <td>794500.0</td>\n",
              "      <td>1443600.0</td>\n",
              "      <td>1.145978e+08</td>\n",
              "      <td>2.263</td>\n",
              "      <td>2.590122e+08</td>\n",
              "      <td>2.263645</td>\n",
              "    </tr>\n",
              "    <tr>\n",
              "      <th>1</th>\n",
              "      <td>35:01.6</td>\n",
              "      <td>2.2595</td>\n",
              "      <td>2.2592</td>\n",
              "      <td>2.25935</td>\n",
              "      <td>2.25</td>\n",
              "      <td>6105.400000</td>\n",
              "      <td>6103.0</td>\n",
              "      <td>6102.6</td>\n",
              "      <td>6105.2</td>\n",
              "      <td>6105.4</td>\n",
              "      <td>...</td>\n",
              "      <td>2.0</td>\n",
              "      <td>2.26766</td>\n",
              "      <td>2.263</td>\n",
              "      <td>2.264</td>\n",
              "      <td>786400.0</td>\n",
              "      <td>1377800.0</td>\n",
              "      <td>1.147018e+08</td>\n",
              "      <td>2.264</td>\n",
              "      <td>2.592476e+08</td>\n",
              "      <td>2.263637</td>\n",
              "    </tr>\n",
              "    <tr>\n",
              "      <th>2</th>\n",
              "      <td>35:02.1</td>\n",
              "      <td>2.2599</td>\n",
              "      <td>2.2596</td>\n",
              "      <td>2.25975</td>\n",
              "      <td>2.25</td>\n",
              "      <td>6105.466667</td>\n",
              "      <td>6104.2</td>\n",
              "      <td>6104.0</td>\n",
              "      <td>6105.4</td>\n",
              "      <td>6106.2</td>\n",
              "      <td>...</td>\n",
              "      <td>2.0</td>\n",
              "      <td>2.26754</td>\n",
              "      <td>2.263</td>\n",
              "      <td>2.264</td>\n",
              "      <td>786400.0</td>\n",
              "      <td>377800.0</td>\n",
              "      <td>1.157018e+08</td>\n",
              "      <td>2.264</td>\n",
              "      <td>2.615116e+08</td>\n",
              "      <td>2.263325</td>\n",
              "    </tr>\n",
              "    <tr>\n",
              "      <th>3</th>\n",
              "      <td>35:02.6</td>\n",
              "      <td>2.2603</td>\n",
              "      <td>2.2599</td>\n",
              "      <td>2.26010</td>\n",
              "      <td>2.25</td>\n",
              "      <td>6105.500000</td>\n",
              "      <td>6105.8</td>\n",
              "      <td>6105.4</td>\n",
              "      <td>6106.2</td>\n",
              "      <td>6106.4</td>\n",
              "      <td>...</td>\n",
              "      <td>4.0</td>\n",
              "      <td>2.26757</td>\n",
              "      <td>2.263</td>\n",
              "      <td>2.264</td>\n",
              "      <td>587800.0</td>\n",
              "      <td>387700.0</td>\n",
              "      <td>1.159029e+08</td>\n",
              "      <td>2.264</td>\n",
              "      <td>2.619667e+08</td>\n",
              "      <td>2.263397</td>\n",
              "    </tr>\n",
              "    <tr>\n",
              "      <th>4</th>\n",
              "      <td>35:03.1</td>\n",
              "      <td>2.2606</td>\n",
              "      <td>2.2604</td>\n",
              "      <td>2.26050</td>\n",
              "      <td>2.25</td>\n",
              "      <td>6106.200000</td>\n",
              "      <td>6106.0</td>\n",
              "      <td>6105.8</td>\n",
              "      <td>6106.4</td>\n",
              "      <td>6106.8</td>\n",
              "      <td>...</td>\n",
              "      <td>2.0</td>\n",
              "      <td>2.26785</td>\n",
              "      <td>2.263</td>\n",
              "      <td>2.264</td>\n",
              "      <td>2174400.0</td>\n",
              "      <td>254200.0</td>\n",
              "      <td>1.159069e+08</td>\n",
              "      <td>2.264</td>\n",
              "      <td>2.619758e+08</td>\n",
              "      <td>2.263105</td>\n",
              "    </tr>\n",
              "    <tr>\n",
              "      <th>...</th>\n",
              "      <td>...</td>\n",
              "      <td>...</td>\n",
              "      <td>...</td>\n",
              "      <td>...</td>\n",
              "      <td>...</td>\n",
              "      <td>...</td>\n",
              "      <td>...</td>\n",
              "      <td>...</td>\n",
              "      <td>...</td>\n",
              "      <td>...</td>\n",
              "      <td>...</td>\n",
              "      <td>...</td>\n",
              "      <td>...</td>\n",
              "      <td>...</td>\n",
              "      <td>...</td>\n",
              "      <td>...</td>\n",
              "      <td>...</td>\n",
              "      <td>...</td>\n",
              "      <td>...</td>\n",
              "      <td>...</td>\n",
              "      <td>...</td>\n",
              "    </tr>\n",
              "    <tr>\n",
              "      <th>220744</th>\n",
              "      <td>1900-01-01 14:56:58.104885</td>\n",
              "      <td>2.3445</td>\n",
              "      <td>2.3441</td>\n",
              "      <td>2.34430</td>\n",
              "      <td>2.35</td>\n",
              "      <td>6279.800000</td>\n",
              "      <td>6279.8</td>\n",
              "      <td>6279.6</td>\n",
              "      <td>6280.2</td>\n",
              "      <td>6280.8</td>\n",
              "      <td>...</td>\n",
              "      <td>4.0</td>\n",
              "      <td>2.33959</td>\n",
              "      <td>2.345</td>\n",
              "      <td>2.346</td>\n",
              "      <td>3889100.0</td>\n",
              "      <td>2438800.0</td>\n",
              "      <td>1.781350e+09</td>\n",
              "      <td>2.346</td>\n",
              "      <td>4.193257e+09</td>\n",
              "      <td>2.345385</td>\n",
              "    </tr>\n",
              "    <tr>\n",
              "      <th>220745</th>\n",
              "      <td>1900-01-01 14:56:58.604649</td>\n",
              "      <td>2.3445</td>\n",
              "      <td>2.3441</td>\n",
              "      <td>2.34430</td>\n",
              "      <td>2.35</td>\n",
              "      <td>6279.800000</td>\n",
              "      <td>6279.8</td>\n",
              "      <td>6279.6</td>\n",
              "      <td>6280.0</td>\n",
              "      <td>6280.2</td>\n",
              "      <td>...</td>\n",
              "      <td>2.0</td>\n",
              "      <td>2.33956</td>\n",
              "      <td>2.345</td>\n",
              "      <td>2.346</td>\n",
              "      <td>3797800.0</td>\n",
              "      <td>2384800.0</td>\n",
              "      <td>1.781501e+09</td>\n",
              "      <td>2.345</td>\n",
              "      <td>4.193610e+09</td>\n",
              "      <td>2.345386</td>\n",
              "    </tr>\n",
              "    <tr>\n",
              "      <th>220746</th>\n",
              "      <td>1900-01-01 14:56:59.104586</td>\n",
              "      <td>2.3445</td>\n",
              "      <td>2.3440</td>\n",
              "      <td>2.34425</td>\n",
              "      <td>2.35</td>\n",
              "      <td>6279.800000</td>\n",
              "      <td>6279.8</td>\n",
              "      <td>6279.6</td>\n",
              "      <td>6280.0</td>\n",
              "      <td>6280.2</td>\n",
              "      <td>...</td>\n",
              "      <td>2.0</td>\n",
              "      <td>2.33957</td>\n",
              "      <td>2.345</td>\n",
              "      <td>2.346</td>\n",
              "      <td>3797800.0</td>\n",
              "      <td>1708400.0</td>\n",
              "      <td>1.781507e+09</td>\n",
              "      <td>2.346</td>\n",
              "      <td>4.193623e+09</td>\n",
              "      <td>2.345310</td>\n",
              "    </tr>\n",
              "    <tr>\n",
              "      <th>220747</th>\n",
              "      <td>1900-01-01 14:56:59.604697</td>\n",
              "      <td>2.3444</td>\n",
              "      <td>2.3441</td>\n",
              "      <td>2.34425</td>\n",
              "      <td>2.30</td>\n",
              "      <td>6279.800000</td>\n",
              "      <td>6279.8</td>\n",
              "      <td>6279.6</td>\n",
              "      <td>6280.0</td>\n",
              "      <td>6280.2</td>\n",
              "      <td>...</td>\n",
              "      <td>2.0</td>\n",
              "      <td>2.33958</td>\n",
              "      <td>2.345</td>\n",
              "      <td>2.346</td>\n",
              "      <td>3772500.0</td>\n",
              "      <td>1678100.0</td>\n",
              "      <td>1.781547e+09</td>\n",
              "      <td>2.345</td>\n",
              "      <td>4.193718e+09</td>\n",
              "      <td>2.345308</td>\n",
              "    </tr>\n",
              "    <tr>\n",
              "      <th>220748</th>\n",
              "      <td>1900-01-01 15:00:00.715683</td>\n",
              "      <td>2.3442</td>\n",
              "      <td>2.3438</td>\n",
              "      <td>2.34400</td>\n",
              "      <td>2.35</td>\n",
              "      <td>6271.200000</td>\n",
              "      <td>6270.0</td>\n",
              "      <td>6269.6</td>\n",
              "      <td>6271.0</td>\n",
              "      <td>6274.2</td>\n",
              "      <td>...</td>\n",
              "      <td>3.0</td>\n",
              "      <td>2.33956</td>\n",
              "      <td>2.345</td>\n",
              "      <td>2.346</td>\n",
              "      <td>3463100.0</td>\n",
              "      <td>1692600.0</td>\n",
              "      <td>1.781857e+09</td>\n",
              "      <td>2.345</td>\n",
              "      <td>4.194445e+09</td>\n",
              "      <td>2.345328</td>\n",
              "    </tr>\n",
              "  </tbody>\n",
              "</table>\n",
              "<p>220749 rows × 23 columns</p>\n",
              "</div>\n",
              "    <div class=\"colab-df-buttons\">\n",
              "\n",
              "  <div class=\"colab-df-container\">\n",
              "    <button class=\"colab-df-convert\" onclick=\"convertToInteractive('df-8108b77d-a0d3-4d25-a62a-d1af177e1dc6')\"\n",
              "            title=\"Convert this dataframe to an interactive table.\"\n",
              "            style=\"display:none;\">\n",
              "\n",
              "  <svg xmlns=\"http://www.w3.org/2000/svg\" height=\"24px\" viewBox=\"0 -960 960 960\">\n",
              "    <path d=\"M120-120v-720h720v720H120Zm60-500h600v-160H180v160Zm220 220h160v-160H400v160Zm0 220h160v-160H400v160ZM180-400h160v-160H180v160Zm440 0h160v-160H620v160ZM180-180h160v-160H180v160Zm440 0h160v-160H620v160Z\"/>\n",
              "  </svg>\n",
              "    </button>\n",
              "\n",
              "  <style>\n",
              "    .colab-df-container {\n",
              "      display:flex;\n",
              "      gap: 12px;\n",
              "    }\n",
              "\n",
              "    .colab-df-convert {\n",
              "      background-color: #E8F0FE;\n",
              "      border: none;\n",
              "      border-radius: 50%;\n",
              "      cursor: pointer;\n",
              "      display: none;\n",
              "      fill: #1967D2;\n",
              "      height: 32px;\n",
              "      padding: 0 0 0 0;\n",
              "      width: 32px;\n",
              "    }\n",
              "\n",
              "    .colab-df-convert:hover {\n",
              "      background-color: #E2EBFA;\n",
              "      box-shadow: 0px 1px 2px rgba(60, 64, 67, 0.3), 0px 1px 3px 1px rgba(60, 64, 67, 0.15);\n",
              "      fill: #174EA6;\n",
              "    }\n",
              "\n",
              "    .colab-df-buttons div {\n",
              "      margin-bottom: 4px;\n",
              "    }\n",
              "\n",
              "    [theme=dark] .colab-df-convert {\n",
              "      background-color: #3B4455;\n",
              "      fill: #D2E3FC;\n",
              "    }\n",
              "\n",
              "    [theme=dark] .colab-df-convert:hover {\n",
              "      background-color: #434B5C;\n",
              "      box-shadow: 0px 1px 3px 1px rgba(0, 0, 0, 0.15);\n",
              "      filter: drop-shadow(0px 1px 2px rgba(0, 0, 0, 0.3));\n",
              "      fill: #FFFFFF;\n",
              "    }\n",
              "  </style>\n",
              "\n",
              "    <script>\n",
              "      const buttonEl =\n",
              "        document.querySelector('#df-8108b77d-a0d3-4d25-a62a-d1af177e1dc6 button.colab-df-convert');\n",
              "      buttonEl.style.display =\n",
              "        google.colab.kernel.accessAllowed ? 'block' : 'none';\n",
              "\n",
              "      async function convertToInteractive(key) {\n",
              "        const element = document.querySelector('#df-8108b77d-a0d3-4d25-a62a-d1af177e1dc6');\n",
              "        const dataTable =\n",
              "          await google.colab.kernel.invokeFunction('convertToInteractive',\n",
              "                                                    [key], {});\n",
              "        if (!dataTable) return;\n",
              "\n",
              "        const docLinkHtml = 'Like what you see? Visit the ' +\n",
              "          '<a target=\"_blank\" href=https://colab.research.google.com/notebooks/data_table.ipynb>data table notebook</a>'\n",
              "          + ' to learn more about interactive tables.';\n",
              "        element.innerHTML = '';\n",
              "        dataTable['output_type'] = 'display_data';\n",
              "        await google.colab.output.renderOutput(dataTable, element);\n",
              "        const docLink = document.createElement('div');\n",
              "        docLink.innerHTML = docLinkHtml;\n",
              "        element.appendChild(docLink);\n",
              "      }\n",
              "    </script>\n",
              "  </div>\n",
              "\n",
              "\n",
              "    <div id=\"df-f0072d63-aa52-42ee-bc9d-69952269dd61\">\n",
              "      <button class=\"colab-df-quickchart\" onclick=\"quickchart('df-f0072d63-aa52-42ee-bc9d-69952269dd61')\"\n",
              "                title=\"Suggest charts\"\n",
              "                style=\"display:none;\">\n",
              "\n",
              "<svg xmlns=\"http://www.w3.org/2000/svg\" height=\"24px\"viewBox=\"0 0 24 24\"\n",
              "     width=\"24px\">\n",
              "    <g>\n",
              "        <path d=\"M19 3H5c-1.1 0-2 .9-2 2v14c0 1.1.9 2 2 2h14c1.1 0 2-.9 2-2V5c0-1.1-.9-2-2-2zM9 17H7v-7h2v7zm4 0h-2V7h2v10zm4 0h-2v-4h2v4z\"/>\n",
              "    </g>\n",
              "</svg>\n",
              "      </button>\n",
              "\n",
              "<style>\n",
              "  .colab-df-quickchart {\n",
              "      --bg-color: #E8F0FE;\n",
              "      --fill-color: #1967D2;\n",
              "      --hover-bg-color: #E2EBFA;\n",
              "      --hover-fill-color: #174EA6;\n",
              "      --disabled-fill-color: #AAA;\n",
              "      --disabled-bg-color: #DDD;\n",
              "  }\n",
              "\n",
              "  [theme=dark] .colab-df-quickchart {\n",
              "      --bg-color: #3B4455;\n",
              "      --fill-color: #D2E3FC;\n",
              "      --hover-bg-color: #434B5C;\n",
              "      --hover-fill-color: #FFFFFF;\n",
              "      --disabled-bg-color: #3B4455;\n",
              "      --disabled-fill-color: #666;\n",
              "  }\n",
              "\n",
              "  .colab-df-quickchart {\n",
              "    background-color: var(--bg-color);\n",
              "    border: none;\n",
              "    border-radius: 50%;\n",
              "    cursor: pointer;\n",
              "    display: none;\n",
              "    fill: var(--fill-color);\n",
              "    height: 32px;\n",
              "    padding: 0;\n",
              "    width: 32px;\n",
              "  }\n",
              "\n",
              "  .colab-df-quickchart:hover {\n",
              "    background-color: var(--hover-bg-color);\n",
              "    box-shadow: 0 1px 2px rgba(60, 64, 67, 0.3), 0 1px 3px 1px rgba(60, 64, 67, 0.15);\n",
              "    fill: var(--button-hover-fill-color);\n",
              "  }\n",
              "\n",
              "  .colab-df-quickchart-complete:disabled,\n",
              "  .colab-df-quickchart-complete:disabled:hover {\n",
              "    background-color: var(--disabled-bg-color);\n",
              "    fill: var(--disabled-fill-color);\n",
              "    box-shadow: none;\n",
              "  }\n",
              "\n",
              "  .colab-df-spinner {\n",
              "    border: 2px solid var(--fill-color);\n",
              "    border-color: transparent;\n",
              "    border-bottom-color: var(--fill-color);\n",
              "    animation:\n",
              "      spin 1s steps(1) infinite;\n",
              "  }\n",
              "\n",
              "  @keyframes spin {\n",
              "    0% {\n",
              "      border-color: transparent;\n",
              "      border-bottom-color: var(--fill-color);\n",
              "      border-left-color: var(--fill-color);\n",
              "    }\n",
              "    20% {\n",
              "      border-color: transparent;\n",
              "      border-left-color: var(--fill-color);\n",
              "      border-top-color: var(--fill-color);\n",
              "    }\n",
              "    30% {\n",
              "      border-color: transparent;\n",
              "      border-left-color: var(--fill-color);\n",
              "      border-top-color: var(--fill-color);\n",
              "      border-right-color: var(--fill-color);\n",
              "    }\n",
              "    40% {\n",
              "      border-color: transparent;\n",
              "      border-right-color: var(--fill-color);\n",
              "      border-top-color: var(--fill-color);\n",
              "    }\n",
              "    60% {\n",
              "      border-color: transparent;\n",
              "      border-right-color: var(--fill-color);\n",
              "    }\n",
              "    80% {\n",
              "      border-color: transparent;\n",
              "      border-right-color: var(--fill-color);\n",
              "      border-bottom-color: var(--fill-color);\n",
              "    }\n",
              "    90% {\n",
              "      border-color: transparent;\n",
              "      border-bottom-color: var(--fill-color);\n",
              "    }\n",
              "  }\n",
              "</style>\n",
              "\n",
              "      <script>\n",
              "        async function quickchart(key) {\n",
              "          const quickchartButtonEl =\n",
              "            document.querySelector('#' + key + ' button');\n",
              "          quickchartButtonEl.disabled = true;  // To prevent multiple clicks.\n",
              "          quickchartButtonEl.classList.add('colab-df-spinner');\n",
              "          try {\n",
              "            const charts = await google.colab.kernel.invokeFunction(\n",
              "                'suggestCharts', [key], {});\n",
              "          } catch (error) {\n",
              "            console.error('Error during call to suggestCharts:', error);\n",
              "          }\n",
              "          quickchartButtonEl.classList.remove('colab-df-spinner');\n",
              "          quickchartButtonEl.classList.add('colab-df-quickchart-complete');\n",
              "        }\n",
              "        (() => {\n",
              "          let quickchartButtonEl =\n",
              "            document.querySelector('#df-f0072d63-aa52-42ee-bc9d-69952269dd61 button');\n",
              "          quickchartButtonEl.style.display =\n",
              "            google.colab.kernel.accessAllowed ? 'block' : 'none';\n",
              "        })();\n",
              "      </script>\n",
              "    </div>\n",
              "    </div>\n",
              "  </div>\n"
            ],
            "application/vnd.google.colaboratory.intrinsic+json": {
              "type": "dataframe",
              "variable_name": "df"
            }
          },
          "metadata": {},
          "execution_count": 4
        }
      ]
    },
    {
      "cell_type": "code",
      "source": [
        "features = df[[\n",
        "    'bidforward', 'askforward', 'midforward', 'K',\n",
        "    'Vwap', 'BidPrice1', 'BidPrice2', 'AskPrice1' ,'AskPrice2',\n",
        "    'BidVol1', 'BidVol2', 'AskVol1', 'AskVol2', 'iopv',\n",
        "    'ETFBidPrice1', 'ETFAskPrice1', 'ETFBidVol1', 'ETFAskVol1',\n",
        "    'ETFVolume', 'ETFLastPrice', 'ETFTotalValueTraded'\n",
        "]].values\n",
        "\n",
        "# 标准化 我们舍弃这一标准化定义\n",
        "# scaler = StandardScaler()\n",
        "# features = scaler.fit_transform(features)\n",
        "\n",
        "target = df['Vwap_ETFPrice']"
      ],
      "metadata": {
        "id": "JfZoygk-ihHJ"
      },
      "execution_count": 5,
      "outputs": []
    },
    {
      "cell_type": "code",
      "source": [
        "def build_simple_deeplob(input_shape, num_classes=3, dropout_rate=0.3):\n",
        "    inp = layers.Input(shape=input_shape)  # input_shape = (window_length, 21)\n",
        "\n",
        "    x = layers.Conv1D(64, 3, padding='same')(inp)\n",
        "    x = layers.BatchNormalization()(x)\n",
        "    x = layers.Activation('relu')(x)\n",
        "    x = layers.Dropout(dropout_rate)(x)\n",
        "\n",
        "    x = layers.Conv1D(64, 3, padding='same')(x)\n",
        "    x = layers.BatchNormalization()(x)\n",
        "    x = layers.Activation('relu')(x)\n",
        "    x = layers.Dropout(dropout_rate)(x)\n",
        "\n",
        "    x = layers.LSTM(64, return_sequences=False)(x)\n",
        "    x = layers.Dense(64, activation='relu')(x)\n",
        "    x = layers.Dropout(dropout_rate)(x)\n",
        "\n",
        "    out = layers.Dense(num_classes, activation='softmax')(x)\n",
        "\n",
        "    model = models.Model(inputs=inp, outputs=out)\n",
        "    return model\n",
        "\n",
        "window_length = 100  # 你实际用的滑动窗口长度\n",
        "input_shape = (window_length, 21)  # 4个特征：买一价、买一量、卖一价、卖一量\n",
        "model = build_simple_deeplob(input_shape)\n",
        "from tensorflow.keras.optimizers import AdamW\n",
        "optimizer = AdamW(learning_rate=1e-3, weight_decay=1e-5)\n",
        "model.compile(optimizer=optimizer, loss='sparse_categorical_crossentropy', metrics=['accuracy'])\n",
        "model.summary()"
      ],
      "metadata": {
        "colab": {
          "base_uri": "https://localhost:8080/",
          "height": 595
        },
        "id": "crmQq43ZqE9t",
        "outputId": "788b4d8e-ca81-45ee-a65a-b0c63cec07d6"
      },
      "execution_count": 11,
      "outputs": [
        {
          "output_type": "display_data",
          "data": {
            "text/plain": [
              "\u001b[1mModel: \"functional\"\u001b[0m\n"
            ],
            "text/html": [
              "<pre style=\"white-space:pre;overflow-x:auto;line-height:normal;font-family:Menlo,'DejaVu Sans Mono',consolas,'Courier New',monospace\"><span style=\"font-weight: bold\">Model: \"functional\"</span>\n",
              "</pre>\n"
            ]
          },
          "metadata": {}
        },
        {
          "output_type": "display_data",
          "data": {
            "text/plain": [
              "┏━━━━━━━━━━━━━━━━━━━━━━━━━━━━━━━━━┳━━━━━━━━━━━━━━━━━━━━━━━━┳━━━━━━━━━━━━━━━┓\n",
              "┃\u001b[1m \u001b[0m\u001b[1mLayer (type)                   \u001b[0m\u001b[1m \u001b[0m┃\u001b[1m \u001b[0m\u001b[1mOutput Shape          \u001b[0m\u001b[1m \u001b[0m┃\u001b[1m \u001b[0m\u001b[1m      Param #\u001b[0m\u001b[1m \u001b[0m┃\n",
              "┡━━━━━━━━━━━━━━━━━━━━━━━━━━━━━━━━━╇━━━━━━━━━━━━━━━━━━━━━━━━╇━━━━━━━━━━━━━━━┩\n",
              "│ input_layer (\u001b[38;5;33mInputLayer\u001b[0m)        │ (\u001b[38;5;45mNone\u001b[0m, \u001b[38;5;34m100\u001b[0m, \u001b[38;5;34m21\u001b[0m)        │             \u001b[38;5;34m0\u001b[0m │\n",
              "├─────────────────────────────────┼────────────────────────┼───────────────┤\n",
              "│ conv1d (\u001b[38;5;33mConv1D\u001b[0m)                 │ (\u001b[38;5;45mNone\u001b[0m, \u001b[38;5;34m100\u001b[0m, \u001b[38;5;34m64\u001b[0m)        │         \u001b[38;5;34m4,096\u001b[0m │\n",
              "├─────────────────────────────────┼────────────────────────┼───────────────┤\n",
              "│ batch_normalization             │ (\u001b[38;5;45mNone\u001b[0m, \u001b[38;5;34m100\u001b[0m, \u001b[38;5;34m64\u001b[0m)        │           \u001b[38;5;34m256\u001b[0m │\n",
              "│ (\u001b[38;5;33mBatchNormalization\u001b[0m)            │                        │               │\n",
              "├─────────────────────────────────┼────────────────────────┼───────────────┤\n",
              "│ activation (\u001b[38;5;33mActivation\u001b[0m)         │ (\u001b[38;5;45mNone\u001b[0m, \u001b[38;5;34m100\u001b[0m, \u001b[38;5;34m64\u001b[0m)        │             \u001b[38;5;34m0\u001b[0m │\n",
              "├─────────────────────────────────┼────────────────────────┼───────────────┤\n",
              "│ dropout (\u001b[38;5;33mDropout\u001b[0m)               │ (\u001b[38;5;45mNone\u001b[0m, \u001b[38;5;34m100\u001b[0m, \u001b[38;5;34m64\u001b[0m)        │             \u001b[38;5;34m0\u001b[0m │\n",
              "├─────────────────────────────────┼────────────────────────┼───────────────┤\n",
              "│ conv1d_1 (\u001b[38;5;33mConv1D\u001b[0m)               │ (\u001b[38;5;45mNone\u001b[0m, \u001b[38;5;34m100\u001b[0m, \u001b[38;5;34m64\u001b[0m)        │        \u001b[38;5;34m12,352\u001b[0m │\n",
              "├─────────────────────────────────┼────────────────────────┼───────────────┤\n",
              "│ batch_normalization_1           │ (\u001b[38;5;45mNone\u001b[0m, \u001b[38;5;34m100\u001b[0m, \u001b[38;5;34m64\u001b[0m)        │           \u001b[38;5;34m256\u001b[0m │\n",
              "│ (\u001b[38;5;33mBatchNormalization\u001b[0m)            │                        │               │\n",
              "├─────────────────────────────────┼────────────────────────┼───────────────┤\n",
              "│ activation_1 (\u001b[38;5;33mActivation\u001b[0m)       │ (\u001b[38;5;45mNone\u001b[0m, \u001b[38;5;34m100\u001b[0m, \u001b[38;5;34m64\u001b[0m)        │             \u001b[38;5;34m0\u001b[0m │\n",
              "├─────────────────────────────────┼────────────────────────┼───────────────┤\n",
              "│ dropout_1 (\u001b[38;5;33mDropout\u001b[0m)             │ (\u001b[38;5;45mNone\u001b[0m, \u001b[38;5;34m100\u001b[0m, \u001b[38;5;34m64\u001b[0m)        │             \u001b[38;5;34m0\u001b[0m │\n",
              "├─────────────────────────────────┼────────────────────────┼───────────────┤\n",
              "│ lstm (\u001b[38;5;33mLSTM\u001b[0m)                     │ (\u001b[38;5;45mNone\u001b[0m, \u001b[38;5;34m64\u001b[0m)             │        \u001b[38;5;34m33,024\u001b[0m │\n",
              "├─────────────────────────────────┼────────────────────────┼───────────────┤\n",
              "│ dense (\u001b[38;5;33mDense\u001b[0m)                   │ (\u001b[38;5;45mNone\u001b[0m, \u001b[38;5;34m64\u001b[0m)             │         \u001b[38;5;34m4,160\u001b[0m │\n",
              "├─────────────────────────────────┼────────────────────────┼───────────────┤\n",
              "│ dropout_2 (\u001b[38;5;33mDropout\u001b[0m)             │ (\u001b[38;5;45mNone\u001b[0m, \u001b[38;5;34m64\u001b[0m)             │             \u001b[38;5;34m0\u001b[0m │\n",
              "├─────────────────────────────────┼────────────────────────┼───────────────┤\n",
              "│ dense_1 (\u001b[38;5;33mDense\u001b[0m)                 │ (\u001b[38;5;45mNone\u001b[0m, \u001b[38;5;34m3\u001b[0m)              │           \u001b[38;5;34m195\u001b[0m │\n",
              "└─────────────────────────────────┴────────────────────────┴───────────────┘\n"
            ],
            "text/html": [
              "<pre style=\"white-space:pre;overflow-x:auto;line-height:normal;font-family:Menlo,'DejaVu Sans Mono',consolas,'Courier New',monospace\">┏━━━━━━━━━━━━━━━━━━━━━━━━━━━━━━━━━┳━━━━━━━━━━━━━━━━━━━━━━━━┳━━━━━━━━━━━━━━━┓\n",
              "┃<span style=\"font-weight: bold\"> Layer (type)                    </span>┃<span style=\"font-weight: bold\"> Output Shape           </span>┃<span style=\"font-weight: bold\">       Param # </span>┃\n",
              "┡━━━━━━━━━━━━━━━━━━━━━━━━━━━━━━━━━╇━━━━━━━━━━━━━━━━━━━━━━━━╇━━━━━━━━━━━━━━━┩\n",
              "│ input_layer (<span style=\"color: #0087ff; text-decoration-color: #0087ff\">InputLayer</span>)        │ (<span style=\"color: #00d7ff; text-decoration-color: #00d7ff\">None</span>, <span style=\"color: #00af00; text-decoration-color: #00af00\">100</span>, <span style=\"color: #00af00; text-decoration-color: #00af00\">21</span>)        │             <span style=\"color: #00af00; text-decoration-color: #00af00\">0</span> │\n",
              "├─────────────────────────────────┼────────────────────────┼───────────────┤\n",
              "│ conv1d (<span style=\"color: #0087ff; text-decoration-color: #0087ff\">Conv1D</span>)                 │ (<span style=\"color: #00d7ff; text-decoration-color: #00d7ff\">None</span>, <span style=\"color: #00af00; text-decoration-color: #00af00\">100</span>, <span style=\"color: #00af00; text-decoration-color: #00af00\">64</span>)        │         <span style=\"color: #00af00; text-decoration-color: #00af00\">4,096</span> │\n",
              "├─────────────────────────────────┼────────────────────────┼───────────────┤\n",
              "│ batch_normalization             │ (<span style=\"color: #00d7ff; text-decoration-color: #00d7ff\">None</span>, <span style=\"color: #00af00; text-decoration-color: #00af00\">100</span>, <span style=\"color: #00af00; text-decoration-color: #00af00\">64</span>)        │           <span style=\"color: #00af00; text-decoration-color: #00af00\">256</span> │\n",
              "│ (<span style=\"color: #0087ff; text-decoration-color: #0087ff\">BatchNormalization</span>)            │                        │               │\n",
              "├─────────────────────────────────┼────────────────────────┼───────────────┤\n",
              "│ activation (<span style=\"color: #0087ff; text-decoration-color: #0087ff\">Activation</span>)         │ (<span style=\"color: #00d7ff; text-decoration-color: #00d7ff\">None</span>, <span style=\"color: #00af00; text-decoration-color: #00af00\">100</span>, <span style=\"color: #00af00; text-decoration-color: #00af00\">64</span>)        │             <span style=\"color: #00af00; text-decoration-color: #00af00\">0</span> │\n",
              "├─────────────────────────────────┼────────────────────────┼───────────────┤\n",
              "│ dropout (<span style=\"color: #0087ff; text-decoration-color: #0087ff\">Dropout</span>)               │ (<span style=\"color: #00d7ff; text-decoration-color: #00d7ff\">None</span>, <span style=\"color: #00af00; text-decoration-color: #00af00\">100</span>, <span style=\"color: #00af00; text-decoration-color: #00af00\">64</span>)        │             <span style=\"color: #00af00; text-decoration-color: #00af00\">0</span> │\n",
              "├─────────────────────────────────┼────────────────────────┼───────────────┤\n",
              "│ conv1d_1 (<span style=\"color: #0087ff; text-decoration-color: #0087ff\">Conv1D</span>)               │ (<span style=\"color: #00d7ff; text-decoration-color: #00d7ff\">None</span>, <span style=\"color: #00af00; text-decoration-color: #00af00\">100</span>, <span style=\"color: #00af00; text-decoration-color: #00af00\">64</span>)        │        <span style=\"color: #00af00; text-decoration-color: #00af00\">12,352</span> │\n",
              "├─────────────────────────────────┼────────────────────────┼───────────────┤\n",
              "│ batch_normalization_1           │ (<span style=\"color: #00d7ff; text-decoration-color: #00d7ff\">None</span>, <span style=\"color: #00af00; text-decoration-color: #00af00\">100</span>, <span style=\"color: #00af00; text-decoration-color: #00af00\">64</span>)        │           <span style=\"color: #00af00; text-decoration-color: #00af00\">256</span> │\n",
              "│ (<span style=\"color: #0087ff; text-decoration-color: #0087ff\">BatchNormalization</span>)            │                        │               │\n",
              "├─────────────────────────────────┼────────────────────────┼───────────────┤\n",
              "│ activation_1 (<span style=\"color: #0087ff; text-decoration-color: #0087ff\">Activation</span>)       │ (<span style=\"color: #00d7ff; text-decoration-color: #00d7ff\">None</span>, <span style=\"color: #00af00; text-decoration-color: #00af00\">100</span>, <span style=\"color: #00af00; text-decoration-color: #00af00\">64</span>)        │             <span style=\"color: #00af00; text-decoration-color: #00af00\">0</span> │\n",
              "├─────────────────────────────────┼────────────────────────┼───────────────┤\n",
              "│ dropout_1 (<span style=\"color: #0087ff; text-decoration-color: #0087ff\">Dropout</span>)             │ (<span style=\"color: #00d7ff; text-decoration-color: #00d7ff\">None</span>, <span style=\"color: #00af00; text-decoration-color: #00af00\">100</span>, <span style=\"color: #00af00; text-decoration-color: #00af00\">64</span>)        │             <span style=\"color: #00af00; text-decoration-color: #00af00\">0</span> │\n",
              "├─────────────────────────────────┼────────────────────────┼───────────────┤\n",
              "│ lstm (<span style=\"color: #0087ff; text-decoration-color: #0087ff\">LSTM</span>)                     │ (<span style=\"color: #00d7ff; text-decoration-color: #00d7ff\">None</span>, <span style=\"color: #00af00; text-decoration-color: #00af00\">64</span>)             │        <span style=\"color: #00af00; text-decoration-color: #00af00\">33,024</span> │\n",
              "├─────────────────────────────────┼────────────────────────┼───────────────┤\n",
              "│ dense (<span style=\"color: #0087ff; text-decoration-color: #0087ff\">Dense</span>)                   │ (<span style=\"color: #00d7ff; text-decoration-color: #00d7ff\">None</span>, <span style=\"color: #00af00; text-decoration-color: #00af00\">64</span>)             │         <span style=\"color: #00af00; text-decoration-color: #00af00\">4,160</span> │\n",
              "├─────────────────────────────────┼────────────────────────┼───────────────┤\n",
              "│ dropout_2 (<span style=\"color: #0087ff; text-decoration-color: #0087ff\">Dropout</span>)             │ (<span style=\"color: #00d7ff; text-decoration-color: #00d7ff\">None</span>, <span style=\"color: #00af00; text-decoration-color: #00af00\">64</span>)             │             <span style=\"color: #00af00; text-decoration-color: #00af00\">0</span> │\n",
              "├─────────────────────────────────┼────────────────────────┼───────────────┤\n",
              "│ dense_1 (<span style=\"color: #0087ff; text-decoration-color: #0087ff\">Dense</span>)                 │ (<span style=\"color: #00d7ff; text-decoration-color: #00d7ff\">None</span>, <span style=\"color: #00af00; text-decoration-color: #00af00\">3</span>)              │           <span style=\"color: #00af00; text-decoration-color: #00af00\">195</span> │\n",
              "└─────────────────────────────────┴────────────────────────┴───────────────┘\n",
              "</pre>\n"
            ]
          },
          "metadata": {}
        },
        {
          "output_type": "display_data",
          "data": {
            "text/plain": [
              "\u001b[1m Total params: \u001b[0m\u001b[38;5;34m54,339\u001b[0m (212.26 KB)\n"
            ],
            "text/html": [
              "<pre style=\"white-space:pre;overflow-x:auto;line-height:normal;font-family:Menlo,'DejaVu Sans Mono',consolas,'Courier New',monospace\"><span style=\"font-weight: bold\"> Total params: </span><span style=\"color: #00af00; text-decoration-color: #00af00\">54,339</span> (212.26 KB)\n",
              "</pre>\n"
            ]
          },
          "metadata": {}
        },
        {
          "output_type": "display_data",
          "data": {
            "text/plain": [
              "\u001b[1m Trainable params: \u001b[0m\u001b[38;5;34m54,083\u001b[0m (211.26 KB)\n"
            ],
            "text/html": [
              "<pre style=\"white-space:pre;overflow-x:auto;line-height:normal;font-family:Menlo,'DejaVu Sans Mono',consolas,'Courier New',monospace\"><span style=\"font-weight: bold\"> Trainable params: </span><span style=\"color: #00af00; text-decoration-color: #00af00\">54,083</span> (211.26 KB)\n",
              "</pre>\n"
            ]
          },
          "metadata": {}
        },
        {
          "output_type": "display_data",
          "data": {
            "text/plain": [
              "\u001b[1m Non-trainable params: \u001b[0m\u001b[38;5;34m256\u001b[0m (1.00 KB)\n"
            ],
            "text/html": [
              "<pre style=\"white-space:pre;overflow-x:auto;line-height:normal;font-family:Menlo,'DejaVu Sans Mono',consolas,'Courier New',monospace\"><span style=\"font-weight: bold\"> Non-trainable params: </span><span style=\"color: #00af00; text-decoration-color: #00af00\">256</span> (1.00 KB)\n",
              "</pre>\n"
            ]
          },
          "metadata": {}
        }
      ]
    },
    {
      "cell_type": "markdown",
      "source": [
        "Okay now, we want to make a serious definition about how we should treat up/down situation, or simply, how we choose Κ and α."
      ],
      "metadata": {
        "id": "bkfLHiasjVDH"
      }
    },
    {
      "cell_type": "code",
      "source": [
        "for k in [10, 20, 50, 100]:\n",
        "\n",
        "  print(f'======= k={k} =======')\n",
        "\n",
        "  returns = []\n",
        "  for i in range(len(target) - k):\n",
        "    now = target[i]\n",
        "    future = np.mean(target[i+1: i+1+k])\n",
        "    returns.append(np.log(future/now))\n",
        "  returns = np.array(returns)\n",
        "  vol = np.std(returns)\n",
        "\n",
        "  print(f\"Future {k} steps avg log return volatility: {vol:.6f}\")\n",
        "\n",
        "  up_threshold_80 = np.quantile(returns, 0.80)\n",
        "  down_threshold_20 = np.quantile(returns, 0.20)\n",
        "\n",
        "  print(f\"Up threshold (80% quantile): {up_threshold_80:.6f}\")\n",
        "  print(f\"Down threshold (20% quantile): {down_threshold_20:.6f}\")\n",
        "\n",
        "  up_threshold_90 = np.quantile(returns, 0.90)\n",
        "  down_threshold_10 = np.quantile(returns, 0.10)\n",
        "\n",
        "  print(f\"Up threshold (90% quantile): {up_threshold_90:.6f}\")\n",
        "  print(f\"Down threshold (10% quantile): {down_threshold_10:.6f}\")"
      ],
      "metadata": {
        "colab": {
          "base_uri": "https://localhost:8080/"
        },
        "id": "67KI7LvHjUgE",
        "outputId": "a549ce2a-3983-4fd6-ae42-00f7cabe757e"
      },
      "execution_count": null,
      "outputs": [
        {
          "output_type": "stream",
          "name": "stdout",
          "text": [
            "======= k=10 =======\n",
            "Future 10 steps avg log return volatility: 0.000214\n",
            "Up threshold (80% quantile): 0.000050\n",
            "Down threshold (20% quantile): -0.000050\n",
            "Up threshold (90% quantile): 0.000166\n",
            "Down threshold (10% quantile): -0.000158\n",
            "======= k=20 =======\n",
            "Future 20 steps avg log return volatility: 0.000258\n",
            "Up threshold (80% quantile): 0.000104\n",
            "Down threshold (20% quantile): -0.000101\n",
            "Up threshold (90% quantile): 0.000287\n",
            "Down threshold (10% quantile): -0.000273\n",
            "======= k=50 =======\n",
            "Future 50 steps avg log return volatility: 0.000339\n",
            "Up threshold (80% quantile): 0.000218\n",
            "Down threshold (20% quantile): -0.000205\n",
            "Up threshold (90% quantile): 0.000424\n",
            "Down threshold (10% quantile): -0.000403\n",
            "======= k=100 =======\n",
            "Future 100 steps avg log return volatility: 0.000433\n",
            "Up threshold (80% quantile): 0.000321\n",
            "Down threshold (20% quantile): -0.000298\n",
            "Up threshold (90% quantile): 0.000524\n",
            "Down threshold (10% quantile): -0.000498\n"
          ]
        }
      ]
    },
    {
      "cell_type": "markdown",
      "source": [
        "我们首先考虑三个目标：\n",
        "\n",
        "1. **让分类任务有意义（避免全是震荡类）**\n",
        "\n",
        "2. **让上涨/下跌类样本足够多（避免样本不均）**\n",
        "\n",
        "3. **逻辑一致性（较大的 Κ 要允许更大的波动）**\n",
        "\n",
        "然而对于第二点，我有疑问。我们目前设置33%和66%的threshold，然而需要考虑到，在现实情况中，不可能有三分之一的时间在下降，三分之一的时间在上涨，如此均衡。换句话来说，在以震荡为主行情的市场力，数据不平衡是天然的问题。"
      ],
      "metadata": {
        "id": "EuuuYKgsloDF"
      }
    },
    {
      "cell_type": "markdown",
      "source": [
        "based on the results, we can make a choice:\n",
        "1. κ=10, α=1bp, (0.5bp?)\n",
        "2. κ=20, α=1bp, 2bp\n",
        "3. κ=50, α=2bp, 4bp\n",
        "4. κ=100, α=3bp, 5bp"
      ],
      "metadata": {
        "id": "Io4dk8KZoWYP"
      }
    },
    {
      "cell_type": "code",
      "source": [
        "def sample_generating(k, alpha, window_length=100):\n",
        "\n",
        "  X = []\n",
        "  y = []\n",
        "\n",
        "  for i in range(len(target) - window_length - k):\n",
        "\n",
        "    X.append(features[i:i+window_length])\n",
        "    now = target[i + window_length - 1]\n",
        "    future = np.mean(target[i + window_length: i + window_length + k])\n",
        "\n",
        "    if future > now*(1+alpha):\n",
        "      y.append(2)\n",
        "    elif future < now*(1-alpha):\n",
        "      y.append(0)\n",
        "    else:\n",
        "      y.append(1)\n",
        "\n",
        "  X = np.array(X)\n",
        "  y = np.array(y)\n",
        "\n",
        "  return X, y"
      ],
      "metadata": {
        "id": "kf5K2gzyizX3"
      },
      "execution_count": 6,
      "outputs": []
    },
    {
      "cell_type": "markdown",
      "source": [
        "Κ = 10, α = 1bp"
      ],
      "metadata": {
        "id": "PXKV7gikp19K"
      }
    },
    {
      "cell_type": "code",
      "source": [
        "X, y = sample_generating(k=10, alpha=1e-4)\n",
        "\n",
        "X_train, X_test, y_train, y_test = train_test_split(X, y, test_size=0.2, shuffle=False)\n",
        "\n",
        "model.fit(X_train, y_train, epochs=10, batch_size=64, validation_data=(X_test, y_test))\n",
        "\n",
        "y_pred = model.predict(X_test)\n",
        "y_pred_label = np.argmax(y_pred, axis=1)\n",
        "\n",
        "print(classification_report(y_test, y_pred_label))"
      ],
      "metadata": {
        "colab": {
          "base_uri": "https://localhost:8080/"
        },
        "id": "UrrC55zpp0N7",
        "outputId": "b9262b93-733a-4856-e371-77e3a89fc883"
      },
      "execution_count": null,
      "outputs": [
        {
          "output_type": "stream",
          "name": "stdout",
          "text": [
            "Epoch 1/10\n",
            "\u001b[1m1717/1717\u001b[0m \u001b[32m━━━━━━━━━━━━━━━━━━━━\u001b[0m\u001b[37m\u001b[0m \u001b[1m21s\u001b[0m 9ms/step - accuracy: 0.7506 - loss: 0.6229 - val_accuracy: 0.7081 - val_loss: 0.6323\n",
            "Epoch 2/10\n",
            "\u001b[1m1717/1717\u001b[0m \u001b[32m━━━━━━━━━━━━━━━━━━━━\u001b[0m\u001b[37m\u001b[0m \u001b[1m15s\u001b[0m 9ms/step - accuracy: 0.7593 - loss: 0.5526 - val_accuracy: 0.7041 - val_loss: 0.6352\n",
            "Epoch 3/10\n",
            "\u001b[1m1717/1717\u001b[0m \u001b[32m━━━━━━━━━━━━━━━━━━━━\u001b[0m\u001b[37m\u001b[0m \u001b[1m20s\u001b[0m 9ms/step - accuracy: 0.7646 - loss: 0.5395 - val_accuracy: 0.6945 - val_loss: 0.6461\n",
            "Epoch 4/10\n",
            "\u001b[1m1717/1717\u001b[0m \u001b[32m━━━━━━━━━━━━━━━━━━━━\u001b[0m\u001b[37m\u001b[0m \u001b[1m21s\u001b[0m 9ms/step - accuracy: 0.7725 - loss: 0.5256 - val_accuracy: 0.6746 - val_loss: 0.6661\n",
            "Epoch 5/10\n",
            "\u001b[1m1717/1717\u001b[0m \u001b[32m━━━━━━━━━━━━━━━━━━━━\u001b[0m\u001b[37m\u001b[0m \u001b[1m20s\u001b[0m 9ms/step - accuracy: 0.7774 - loss: 0.5153 - val_accuracy: 0.6630 - val_loss: 0.6773\n",
            "Epoch 6/10\n",
            "\u001b[1m1717/1717\u001b[0m \u001b[32m━━━━━━━━━━━━━━━━━━━━\u001b[0m\u001b[37m\u001b[0m \u001b[1m15s\u001b[0m 9ms/step - accuracy: 0.7809 - loss: 0.5057 - val_accuracy: 0.6925 - val_loss: 0.6550\n",
            "Epoch 7/10\n",
            "\u001b[1m1717/1717\u001b[0m \u001b[32m━━━━━━━━━━━━━━━━━━━━\u001b[0m\u001b[37m\u001b[0m \u001b[1m16s\u001b[0m 9ms/step - accuracy: 0.7884 - loss: 0.4913 - val_accuracy: 0.6797 - val_loss: 0.6802\n",
            "Epoch 8/10\n",
            "\u001b[1m1717/1717\u001b[0m \u001b[32m━━━━━━━━━━━━━━━━━━━━\u001b[0m\u001b[37m\u001b[0m \u001b[1m16s\u001b[0m 9ms/step - accuracy: 0.7940 - loss: 0.4774 - val_accuracy: 0.6555 - val_loss: 0.7046\n",
            "Epoch 9/10\n",
            "\u001b[1m1717/1717\u001b[0m \u001b[32m━━━━━━━━━━━━━━━━━━━━\u001b[0m\u001b[37m\u001b[0m \u001b[1m15s\u001b[0m 9ms/step - accuracy: 0.8008 - loss: 0.4601 - val_accuracy: 0.6251 - val_loss: 0.7729\n",
            "Epoch 10/10\n",
            "\u001b[1m1717/1717\u001b[0m \u001b[32m━━━━━━━━━━━━━━━━━━━━\u001b[0m\u001b[37m\u001b[0m \u001b[1m22s\u001b[0m 10ms/step - accuracy: 0.8081 - loss: 0.4439 - val_accuracy: 0.6598 - val_loss: 0.7429\n",
            "\u001b[1m859/859\u001b[0m \u001b[32m━━━━━━━━━━━━━━━━━━━━\u001b[0m\u001b[37m\u001b[0m \u001b[1m3s\u001b[0m 3ms/step\n",
            "              precision    recall  f1-score   support\n",
            "\n",
            "           0       0.41      0.32      0.36      3831\n",
            "           1       0.76      0.78      0.77     19565\n",
            "           2       0.38      0.41      0.40      4062\n",
            "\n",
            "    accuracy                           0.66     27458\n",
            "   macro avg       0.52      0.50      0.51     27458\n",
            "weighted avg       0.65      0.66      0.66     27458\n",
            "\n"
          ]
        }
      ]
    },
    {
      "cell_type": "markdown",
      "source": [
        "# A benchmark model: **Κ = 20, α = 1bp, 2bp**"
      ],
      "metadata": {
        "id": "VOaA4aqerjmb"
      }
    },
    {
      "cell_type": "code",
      "source": [
        "X, y = sample_generating(k=20, alpha=1e-4)\n",
        "\n",
        "X_train, X_test, y_train, y_test = train_test_split(X, y, test_size=0.2, shuffle=False)\n",
        "\n",
        "model.fit(X_train, y_train, epochs=10, batch_size=64, validation_data=(X_test, y_test))\n",
        "\n",
        "y_pred = model.predict(X_test)\n",
        "y_pred_label = np.argmax(y_pred, axis=1)\n",
        "\n",
        "print(classification_report(y_test, y_pred_label))"
      ],
      "metadata": {
        "colab": {
          "base_uri": "https://localhost:8080/"
        },
        "id": "wPGnNI_oqLOj",
        "outputId": "45d961be-ad32-4757-94ea-72f34b55687a"
      },
      "execution_count": null,
      "outputs": [
        {
          "output_type": "stream",
          "name": "stdout",
          "text": [
            "Epoch 1/10\n",
            "\u001b[1m2758/2758\u001b[0m \u001b[32m━━━━━━━━━━━━━━━━━━━━\u001b[0m\u001b[37m\u001b[0m \u001b[1m22s\u001b[0m 8ms/step - accuracy: 0.6387 - loss: 0.7442 - val_accuracy: 0.6265 - val_loss: 0.8971\n",
            "Epoch 2/10\n",
            "\u001b[1m2758/2758\u001b[0m \u001b[32m━━━━━━━━━━━━━━━━━━━━\u001b[0m\u001b[37m\u001b[0m \u001b[1m21s\u001b[0m 8ms/step - accuracy: 0.6683 - loss: 0.6915 - val_accuracy: 0.6387 - val_loss: 0.8392\n",
            "Epoch 3/10\n",
            "\u001b[1m2758/2758\u001b[0m \u001b[32m━━━━━━━━━━━━━━━━━━━━\u001b[0m\u001b[37m\u001b[0m \u001b[1m21s\u001b[0m 7ms/step - accuracy: 0.6821 - loss: 0.6684 - val_accuracy: 0.6261 - val_loss: 0.8538\n",
            "Epoch 4/10\n",
            "\u001b[1m2758/2758\u001b[0m \u001b[32m━━━━━━━━━━━━━━━━━━━━\u001b[0m\u001b[37m\u001b[0m \u001b[1m21s\u001b[0m 8ms/step - accuracy: 0.6945 - loss: 0.6465 - val_accuracy: 0.6164 - val_loss: 0.9014\n",
            "Epoch 5/10\n",
            "\u001b[1m2758/2758\u001b[0m \u001b[32m━━━━━━━━━━━━━━━━━━━━\u001b[0m\u001b[37m\u001b[0m \u001b[1m21s\u001b[0m 8ms/step - accuracy: 0.7098 - loss: 0.6208 - val_accuracy: 0.6105 - val_loss: 0.9503\n",
            "Epoch 6/10\n",
            "\u001b[1m2758/2758\u001b[0m \u001b[32m━━━━━━━━━━━━━━━━━━━━\u001b[0m\u001b[37m\u001b[0m \u001b[1m21s\u001b[0m 8ms/step - accuracy: 0.7256 - loss: 0.5921 - val_accuracy: 0.6072 - val_loss: 0.9231\n",
            "Epoch 7/10\n",
            "\u001b[1m2758/2758\u001b[0m \u001b[32m━━━━━━━━━━━━━━━━━━━━\u001b[0m\u001b[37m\u001b[0m \u001b[1m21s\u001b[0m 7ms/step - accuracy: 0.7417 - loss: 0.5635 - val_accuracy: 0.6014 - val_loss: 1.0224\n",
            "Epoch 8/10\n",
            "\u001b[1m2758/2758\u001b[0m \u001b[32m━━━━━━━━━━━━━━━━━━━━\u001b[0m\u001b[37m\u001b[0m \u001b[1m21s\u001b[0m 7ms/step - accuracy: 0.7586 - loss: 0.5308 - val_accuracy: 0.5959 - val_loss: 1.1143\n",
            "Epoch 9/10\n",
            "\u001b[1m2758/2758\u001b[0m \u001b[32m━━━━━━━━━━━━━━━━━━━━\u001b[0m\u001b[37m\u001b[0m \u001b[1m21s\u001b[0m 8ms/step - accuracy: 0.7722 - loss: 0.5066 - val_accuracy: 0.5947 - val_loss: 1.1356\n",
            "Epoch 10/10\n",
            "\u001b[1m2758/2758\u001b[0m \u001b[32m━━━━━━━━━━━━━━━━━━━━\u001b[0m\u001b[37m\u001b[0m \u001b[1m21s\u001b[0m 8ms/step - accuracy: 0.7840 - loss: 0.4845 - val_accuracy: 0.5897 - val_loss: 1.2282\n",
            "\u001b[1m1379/1379\u001b[0m \u001b[32m━━━━━━━━━━━━━━━━━━━━\u001b[0m\u001b[37m\u001b[0m \u001b[1m3s\u001b[0m 2ms/step\n",
            "              precision    recall  f1-score   support\n",
            "\n",
            "           0       0.50      0.22      0.31      9130\n",
            "           1       0.64      0.75      0.69     26073\n",
            "           2       0.46      0.51      0.48      8923\n",
            "\n",
            "    accuracy                           0.59     44126\n",
            "   macro avg       0.53      0.49      0.49     44126\n",
            "weighted avg       0.58      0.59      0.57     44126\n",
            "\n"
          ]
        }
      ]
    },
    {
      "cell_type": "code",
      "source": [
        "X, y = sample_generating(k=20, alpha=2e-4)\n",
        "\n",
        "X_train, X_test, y_train, y_test = train_test_split(X, y, test_size=0.2, shuffle=False)\n",
        "\n",
        "model.fit(X_train, y_train, epochs=10, batch_size=64, validation_data=(X_test, y_test))\n",
        "\n",
        "y_pred = model.predict(X_test)\n",
        "y_pred_label = np.argmax(y_pred, axis=1)\n",
        "\n",
        "print(classification_report(y_test, y_pred_label))"
      ],
      "metadata": {
        "colab": {
          "base_uri": "https://localhost:8080/"
        },
        "id": "8PxpZEw5riF5",
        "outputId": "d2f21d66-a06c-4374-cc9d-027d7aab540b"
      },
      "execution_count": null,
      "outputs": [
        {
          "output_type": "stream",
          "name": "stdout",
          "text": [
            "Epoch 1/10\n",
            "\u001b[1m2758/2758\u001b[0m \u001b[32m━━━━━━━━━━━━━━━━━━━━\u001b[0m\u001b[37m\u001b[0m \u001b[1m24s\u001b[0m 9ms/step - accuracy: 0.7695 - loss: 0.5305 - val_accuracy: 0.7508 - val_loss: 0.5720\n",
            "Epoch 2/10\n",
            "\u001b[1m2758/2758\u001b[0m \u001b[32m━━━━━━━━━━━━━━━━━━━━\u001b[0m\u001b[37m\u001b[0m \u001b[1m23s\u001b[0m 8ms/step - accuracy: 0.7757 - loss: 0.5185 - val_accuracy: 0.7503 - val_loss: 0.5897\n",
            "Epoch 3/10\n",
            "\u001b[1m2758/2758\u001b[0m \u001b[32m━━━━━━━━━━━━━━━━━━━━\u001b[0m\u001b[37m\u001b[0m \u001b[1m23s\u001b[0m 8ms/step - accuracy: 0.7819 - loss: 0.5043 - val_accuracy: 0.7550 - val_loss: 0.5772\n",
            "Epoch 4/10\n",
            "\u001b[1m2758/2758\u001b[0m \u001b[32m━━━━━━━━━━━━━━━━━━━━\u001b[0m\u001b[37m\u001b[0m \u001b[1m23s\u001b[0m 8ms/step - accuracy: 0.7862 - loss: 0.4970 - val_accuracy: 0.7448 - val_loss: 0.5951\n",
            "Epoch 5/10\n",
            "\u001b[1m2758/2758\u001b[0m \u001b[32m━━━━━━━━━━━━━━━━━━━━\u001b[0m\u001b[37m\u001b[0m \u001b[1m23s\u001b[0m 8ms/step - accuracy: 0.7894 - loss: 0.4878 - val_accuracy: 0.7453 - val_loss: 0.6033\n",
            "Epoch 6/10\n",
            "\u001b[1m2758/2758\u001b[0m \u001b[32m━━━━━━━━━━━━━━━━━━━━\u001b[0m\u001b[37m\u001b[0m \u001b[1m23s\u001b[0m 8ms/step - accuracy: 0.7966 - loss: 0.4744 - val_accuracy: 0.7440 - val_loss: 0.6155\n",
            "Epoch 7/10\n",
            "\u001b[1m2758/2758\u001b[0m \u001b[32m━━━━━━━━━━━━━━━━━━━━\u001b[0m\u001b[37m\u001b[0m \u001b[1m23s\u001b[0m 8ms/step - accuracy: 0.8012 - loss: 0.4649 - val_accuracy: 0.7374 - val_loss: 0.6311\n",
            "Epoch 8/10\n",
            "\u001b[1m2758/2758\u001b[0m \u001b[32m━━━━━━━━━━━━━━━━━━━━\u001b[0m\u001b[37m\u001b[0m \u001b[1m22s\u001b[0m 8ms/step - accuracy: 0.8052 - loss: 0.4563 - val_accuracy: 0.7400 - val_loss: 0.6196\n",
            "Epoch 9/10\n",
            "\u001b[1m2758/2758\u001b[0m \u001b[32m━━━━━━━━━━━━━━━━━━━━\u001b[0m\u001b[37m\u001b[0m \u001b[1m22s\u001b[0m 8ms/step - accuracy: 0.8090 - loss: 0.4481 - val_accuracy: 0.7371 - val_loss: 0.6408\n",
            "Epoch 10/10\n",
            "\u001b[1m2758/2758\u001b[0m \u001b[32m━━━━━━━━━━━━━━━━━━━━\u001b[0m\u001b[37m\u001b[0m \u001b[1m22s\u001b[0m 8ms/step - accuracy: 0.8100 - loss: 0.4451 - val_accuracy: 0.7404 - val_loss: 0.6546\n",
            "\u001b[1m1379/1379\u001b[0m \u001b[32m━━━━━━━━━━━━━━━━━━━━\u001b[0m\u001b[37m\u001b[0m \u001b[1m4s\u001b[0m 3ms/step\n",
            "              precision    recall  f1-score   support\n",
            "\n",
            "           0       0.51      0.27      0.36      5933\n",
            "           1       0.78      0.91      0.84     32303\n",
            "           2       0.54      0.29      0.38      5890\n",
            "\n",
            "    accuracy                           0.74     44126\n",
            "   macro avg       0.61      0.49      0.52     44126\n",
            "weighted avg       0.71      0.74      0.71     44126\n",
            "\n"
          ]
        }
      ]
    },
    {
      "cell_type": "markdown",
      "source": [
        "Κ = 50, α = 2bp, 4bp"
      ],
      "metadata": {
        "id": "-CfOFrN0scSs"
      }
    },
    {
      "cell_type": "code",
      "source": [
        "X, y = sample_generating(k=50, alpha=2e-4)\n",
        "\n",
        "X_train, X_test, y_train, y_test = train_test_split(X, y, test_size=0.2, shuffle=False)\n",
        "\n",
        "model.fit(X_train, y_train, epochs=10, batch_size=64, validation_data=(X_test, y_test))\n",
        "\n",
        "y_pred = model.predict(X_test)\n",
        "y_pred_label = np.argmax(y_pred, axis=1)\n",
        "\n",
        "print(classification_report(y_test, y_pred_label))"
      ],
      "metadata": {
        "colab": {
          "base_uri": "https://localhost:8080/"
        },
        "id": "VwJrmLTusVFI",
        "outputId": "cd58b089-07b3-4e5b-e7a6-a3fdff51d133"
      },
      "execution_count": null,
      "outputs": [
        {
          "output_type": "stream",
          "name": "stdout",
          "text": [
            "Epoch 1/10\n",
            "\u001b[1m1716/1716\u001b[0m \u001b[32m━━━━━━━━━━━━━━━━━━━━\u001b[0m\u001b[37m\u001b[0m \u001b[1m16s\u001b[0m 9ms/step - accuracy: 0.8075 - loss: 0.5103 - val_accuracy: 0.5200 - val_loss: 1.2959\n",
            "Epoch 2/10\n",
            "\u001b[1m1716/1716\u001b[0m \u001b[32m━━━━━━━━━━━━━━━━━━━━\u001b[0m\u001b[37m\u001b[0m \u001b[1m16s\u001b[0m 9ms/step - accuracy: 0.8598 - loss: 0.3501 - val_accuracy: 0.5111 - val_loss: 1.4864\n",
            "Epoch 3/10\n",
            "\u001b[1m1716/1716\u001b[0m \u001b[32m━━━━━━━━━━━━━━━━━━━━\u001b[0m\u001b[37m\u001b[0m \u001b[1m21s\u001b[0m 9ms/step - accuracy: 0.8803 - loss: 0.2990 - val_accuracy: 0.5204 - val_loss: 1.5854\n",
            "Epoch 4/10\n",
            "\u001b[1m1716/1716\u001b[0m \u001b[32m━━━━━━━━━━━━━━━━━━━━\u001b[0m\u001b[37m\u001b[0m \u001b[1m22s\u001b[0m 10ms/step - accuracy: 0.8952 - loss: 0.2664 - val_accuracy: 0.5180 - val_loss: 1.8147\n",
            "Epoch 5/10\n",
            "\u001b[1m1716/1716\u001b[0m \u001b[32m━━━━━━━━━━━━━━━━━━━━\u001b[0m\u001b[37m\u001b[0m \u001b[1m20s\u001b[0m 10ms/step - accuracy: 0.9103 - loss: 0.2326 - val_accuracy: 0.5420 - val_loss: 1.7284\n",
            "Epoch 6/10\n",
            "\u001b[1m1716/1716\u001b[0m \u001b[32m━━━━━━━━━━━━━━━━━━━━\u001b[0m\u001b[37m\u001b[0m \u001b[1m20s\u001b[0m 9ms/step - accuracy: 0.9159 - loss: 0.2177 - val_accuracy: 0.5207 - val_loss: 1.8454\n",
            "Epoch 7/10\n",
            "\u001b[1m1716/1716\u001b[0m \u001b[32m━━━━━━━━━━━━━━━━━━━━\u001b[0m\u001b[37m\u001b[0m \u001b[1m21s\u001b[0m 10ms/step - accuracy: 0.9185 - loss: 0.2093 - val_accuracy: 0.5369 - val_loss: 1.7798\n",
            "Epoch 8/10\n",
            "\u001b[1m1716/1716\u001b[0m \u001b[32m━━━━━━━━━━━━━━━━━━━━\u001b[0m\u001b[37m\u001b[0m \u001b[1m19s\u001b[0m 9ms/step - accuracy: 0.9272 - loss: 0.1892 - val_accuracy: 0.5423 - val_loss: 1.9429\n",
            "Epoch 9/10\n",
            "\u001b[1m1716/1716\u001b[0m \u001b[32m━━━━━━━━━━━━━━━━━━━━\u001b[0m\u001b[37m\u001b[0m \u001b[1m22s\u001b[0m 10ms/step - accuracy: 0.9302 - loss: 0.1816 - val_accuracy: 0.5192 - val_loss: 2.0785\n",
            "Epoch 10/10\n",
            "\u001b[1m1716/1716\u001b[0m \u001b[32m━━━━━━━━━━━━━━━━━━━━\u001b[0m\u001b[37m\u001b[0m \u001b[1m19s\u001b[0m 9ms/step - accuracy: 0.9361 - loss: 0.1688 - val_accuracy: 0.5180 - val_loss: 2.1221\n",
            "\u001b[1m858/858\u001b[0m \u001b[32m━━━━━━━━━━━━━━━━━━━━\u001b[0m\u001b[37m\u001b[0m \u001b[1m3s\u001b[0m 4ms/step\n",
            "              precision    recall  f1-score   support\n",
            "\n",
            "           0       0.42      0.48      0.45      5937\n",
            "           1       0.61      0.50      0.55     15133\n",
            "           2       0.46      0.60      0.52      6380\n",
            "\n",
            "    accuracy                           0.52     27450\n",
            "   macro avg       0.50      0.53      0.51     27450\n",
            "weighted avg       0.54      0.52      0.52     27450\n",
            "\n"
          ]
        }
      ]
    },
    {
      "cell_type": "code",
      "source": [
        "X, y = sample_generating(k=50, alpha=4e-4)\n",
        "\n",
        "X_train, X_test, y_train, y_test = train_test_split(X, y, test_size=0.2, shuffle=False)\n",
        "\n",
        "model.fit(X_train, y_train, epochs=10, batch_size=64, validation_data=(X_test, y_test))\n",
        "\n",
        "y_pred = model.predict(X_test)\n",
        "y_pred_label = np.argmax(y_pred, axis=1)\n",
        "\n",
        "print(classification_report(y_test, y_pred_label))"
      ],
      "metadata": {
        "colab": {
          "base_uri": "https://localhost:8080/"
        },
        "id": "YMMVgWg-skCL",
        "outputId": "cf3dc8be-4e48-4140-e428-33f94c0e25f1"
      },
      "execution_count": null,
      "outputs": [
        {
          "output_type": "stream",
          "name": "stdout",
          "text": [
            "Epoch 1/10\n",
            "\u001b[1m1716/1716\u001b[0m \u001b[32m━━━━━━━━━━━━━━━━━━━━\u001b[0m\u001b[37m\u001b[0m \u001b[1m17s\u001b[0m 10ms/step - accuracy: 0.8904 - loss: 0.2631 - val_accuracy: 0.6347 - val_loss: 1.1251\n",
            "Epoch 2/10\n",
            "\u001b[1m1716/1716\u001b[0m \u001b[32m━━━━━━━━━━━━━━━━━━━━\u001b[0m\u001b[37m\u001b[0m \u001b[1m20s\u001b[0m 10ms/step - accuracy: 0.9317 - loss: 0.1664 - val_accuracy: 0.6257 - val_loss: 1.3323\n",
            "Epoch 3/10\n",
            "\u001b[1m1716/1716\u001b[0m \u001b[32m━━━━━━━━━━━━━━━━━━━━\u001b[0m\u001b[37m\u001b[0m \u001b[1m20s\u001b[0m 10ms/step - accuracy: 0.9309 - loss: 0.1757 - val_accuracy: 0.6299 - val_loss: 1.3395\n",
            "Epoch 4/10\n",
            "\u001b[1m1716/1716\u001b[0m \u001b[32m━━━━━━━━━━━━━━━━━━━━\u001b[0m\u001b[37m\u001b[0m \u001b[1m20s\u001b[0m 10ms/step - accuracy: 0.9490 - loss: 0.1277 - val_accuracy: 0.6519 - val_loss: 1.3479\n",
            "Epoch 5/10\n",
            "\u001b[1m1716/1716\u001b[0m \u001b[32m━━━━━━━━━━━━━━━━━━━━\u001b[0m\u001b[37m\u001b[0m \u001b[1m19s\u001b[0m 9ms/step - accuracy: 0.9516 - loss: 0.1212 - val_accuracy: 0.6110 - val_loss: 1.4688\n",
            "Epoch 6/10\n",
            "\u001b[1m1716/1716\u001b[0m \u001b[32m━━━━━━━━━━━━━━━━━━━━\u001b[0m\u001b[37m\u001b[0m \u001b[1m21s\u001b[0m 9ms/step - accuracy: 0.9529 - loss: 0.1204 - val_accuracy: 0.6205 - val_loss: 1.3980\n",
            "Epoch 7/10\n",
            "\u001b[1m1716/1716\u001b[0m \u001b[32m━━━━━━━━━━━━━━━━━━━━\u001b[0m\u001b[37m\u001b[0m \u001b[1m16s\u001b[0m 9ms/step - accuracy: 0.9533 - loss: 0.1220 - val_accuracy: 0.6201 - val_loss: 1.3887\n",
            "Epoch 8/10\n",
            "\u001b[1m1716/1716\u001b[0m \u001b[32m━━━━━━━━━━━━━━━━━━━━\u001b[0m\u001b[37m\u001b[0m \u001b[1m16s\u001b[0m 9ms/step - accuracy: 0.9606 - loss: 0.1008 - val_accuracy: 0.6290 - val_loss: 1.5030\n",
            "Epoch 9/10\n",
            "\u001b[1m1716/1716\u001b[0m \u001b[32m━━━━━━━━━━━━━━━━━━━━\u001b[0m\u001b[37m\u001b[0m \u001b[1m17s\u001b[0m 10ms/step - accuracy: 0.9643 - loss: 0.0958 - val_accuracy: 0.6343 - val_loss: 1.6071\n",
            "Epoch 10/10\n",
            "\u001b[1m1716/1716\u001b[0m \u001b[32m━━━━━━━━━━━━━━━━━━━━\u001b[0m\u001b[37m\u001b[0m \u001b[1m18s\u001b[0m 10ms/step - accuracy: 0.9658 - loss: 0.0901 - val_accuracy: 0.6246 - val_loss: 1.6404\n",
            "\u001b[1m858/858\u001b[0m \u001b[32m━━━━━━━━━━━━━━━━━━━━\u001b[0m\u001b[37m\u001b[0m \u001b[1m3s\u001b[0m 3ms/step\n",
            "              precision    recall  f1-score   support\n",
            "\n",
            "           0       0.25      0.35      0.29      2888\n",
            "           1       0.82      0.67      0.74     21392\n",
            "           2       0.30      0.55      0.39      3170\n",
            "\n",
            "    accuracy                           0.62     27450\n",
            "   macro avg       0.46      0.52      0.47     27450\n",
            "weighted avg       0.70      0.62      0.65     27450\n",
            "\n"
          ]
        }
      ]
    },
    {
      "cell_type": "markdown",
      "source": [
        "Κ = 100, α = 3bp, 5bp"
      ],
      "metadata": {
        "id": "tEgjWHfLspRc"
      }
    },
    {
      "cell_type": "code",
      "source": [
        "X, y = sample_generating(k=100, alpha=3e-4)\n",
        "\n",
        "X_train, X_test, y_train, y_test = train_test_split(X, y, test_size=0.2, shuffle=False)\n",
        "\n",
        "model.fit(X_train, y_train, epochs=10, batch_size=64, validation_data=(X_test, y_test))\n",
        "\n",
        "y_pred = model.predict(X_test)\n",
        "y_pred_label = np.argmax(y_pred, axis=1)\n",
        "\n",
        "print(classification_report(y_test, y_pred_label))"
      ],
      "metadata": {
        "colab": {
          "base_uri": "https://localhost:8080/"
        },
        "id": "rcrTdOo1sleJ",
        "outputId": "a98135fa-98cf-4420-f0e4-f0adc0c25a66"
      },
      "execution_count": null,
      "outputs": [
        {
          "output_type": "stream",
          "name": "stdout",
          "text": [
            "Epoch 1/10\n",
            "\u001b[1m1715/1715\u001b[0m \u001b[32m━━━━━━━━━━━━━━━━━━━━\u001b[0m\u001b[37m\u001b[0m \u001b[1m18s\u001b[0m 10ms/step - accuracy: 0.8282 - loss: 0.4889 - val_accuracy: 0.4970 - val_loss: 1.8197\n",
            "Epoch 2/10\n",
            "\u001b[1m1715/1715\u001b[0m \u001b[32m━━━━━━━━━━━━━━━━━━━━\u001b[0m\u001b[37m\u001b[0m \u001b[1m17s\u001b[0m 10ms/step - accuracy: 0.9076 - loss: 0.2406 - val_accuracy: 0.5020 - val_loss: 1.9587\n",
            "Epoch 3/10\n",
            "\u001b[1m1715/1715\u001b[0m \u001b[32m━━━━━━━━━━━━━━━━━━━━\u001b[0m\u001b[37m\u001b[0m \u001b[1m16s\u001b[0m 9ms/step - accuracy: 0.9282 - loss: 0.1899 - val_accuracy: 0.4972 - val_loss: 2.2345\n",
            "Epoch 4/10\n",
            "\u001b[1m1715/1715\u001b[0m \u001b[32m━━━━━━━━━━━━━━━━━━━━\u001b[0m\u001b[37m\u001b[0m \u001b[1m21s\u001b[0m 10ms/step - accuracy: 0.9384 - loss: 0.1633 - val_accuracy: 0.4904 - val_loss: 2.5191\n",
            "Epoch 5/10\n",
            "\u001b[1m1715/1715\u001b[0m \u001b[32m━━━━━━━━━━━━━━━━━━━━\u001b[0m\u001b[37m\u001b[0m \u001b[1m17s\u001b[0m 10ms/step - accuracy: 0.9406 - loss: 0.1596 - val_accuracy: 0.4893 - val_loss: 2.5729\n",
            "Epoch 6/10\n",
            "\u001b[1m1715/1715\u001b[0m \u001b[32m━━━━━━━━━━━━━━━━━━━━\u001b[0m\u001b[37m\u001b[0m \u001b[1m20s\u001b[0m 10ms/step - accuracy: 0.9511 - loss: 0.1323 - val_accuracy: 0.4768 - val_loss: 2.8860\n",
            "Epoch 7/10\n",
            "\u001b[1m1715/1715\u001b[0m \u001b[32m━━━━━━━━━━━━━━━━━━━━\u001b[0m\u001b[37m\u001b[0m \u001b[1m20s\u001b[0m 9ms/step - accuracy: 0.9562 - loss: 0.1176 - val_accuracy: 0.4874 - val_loss: 2.6964\n",
            "Epoch 8/10\n",
            "\u001b[1m1715/1715\u001b[0m \u001b[32m━━━━━━━━━━━━━━━━━━━━\u001b[0m\u001b[37m\u001b[0m \u001b[1m20s\u001b[0m 9ms/step - accuracy: 0.9581 - loss: 0.1161 - val_accuracy: 0.5147 - val_loss: 2.5942\n",
            "Epoch 9/10\n",
            "\u001b[1m1715/1715\u001b[0m \u001b[32m━━━━━━━━━━━━━━━━━━━━\u001b[0m\u001b[37m\u001b[0m \u001b[1m22s\u001b[0m 10ms/step - accuracy: 0.9600 - loss: 0.1110 - val_accuracy: 0.5132 - val_loss: 2.7559\n",
            "Epoch 10/10\n",
            "\u001b[1m1715/1715\u001b[0m \u001b[32m━━━━━━━━━━━━━━━━━━━━\u001b[0m\u001b[37m\u001b[0m \u001b[1m20s\u001b[0m 10ms/step - accuracy: 0.9617 - loss: 0.1044 - val_accuracy: 0.4886 - val_loss: 2.8481\n",
            "\u001b[1m858/858\u001b[0m \u001b[32m━━━━━━━━━━━━━━━━━━━━\u001b[0m\u001b[37m\u001b[0m \u001b[1m3s\u001b[0m 3ms/step\n",
            "              precision    recall  f1-score   support\n",
            "\n",
            "           0       0.36      0.32      0.34      5691\n",
            "           1       0.59      0.50      0.54     15428\n",
            "           2       0.42      0.61      0.50      6321\n",
            "\n",
            "    accuracy                           0.49     27440\n",
            "   macro avg       0.46      0.48      0.46     27440\n",
            "weighted avg       0.50      0.49      0.49     27440\n",
            "\n"
          ]
        }
      ]
    },
    {
      "cell_type": "code",
      "source": [
        "X, y = sample_generating(k=100, alpha=5e-4)\n",
        "\n",
        "X_train, X_test, y_train, y_test = train_test_split(X, y, test_size=0.2, shuffle=False)\n",
        "\n",
        "model.fit(X_train, y_train, epochs=10, batch_size=64, validation_data=(X_test, y_test))\n",
        "\n",
        "y_pred = model.predict(X_test)\n",
        "y_pred_label = np.argmax(y_pred, axis=1)\n",
        "\n",
        "print(classification_report(y_test, y_pred_label))"
      ],
      "metadata": {
        "colab": {
          "base_uri": "https://localhost:8080/"
        },
        "id": "s9vTPCpdsvK0",
        "outputId": "528f2302-4f25-4829-d7a3-c3e396309fe3"
      },
      "execution_count": null,
      "outputs": [
        {
          "output_type": "stream",
          "name": "stdout",
          "text": [
            "Epoch 1/10\n",
            "\u001b[1m1715/1715\u001b[0m \u001b[32m━━━━━━━━━━━━━━━━━━━━\u001b[0m\u001b[37m\u001b[0m \u001b[1m17s\u001b[0m 10ms/step - accuracy: 0.9067 - loss: 0.2470 - val_accuracy: 0.6774 - val_loss: 1.5761\n",
            "Epoch 2/10\n",
            "\u001b[1m1715/1715\u001b[0m \u001b[32m━━━━━━━━━━━━━━━━━━━━\u001b[0m\u001b[37m\u001b[0m \u001b[1m21s\u001b[0m 10ms/step - accuracy: 0.9462 - loss: 0.1313 - val_accuracy: 0.6781 - val_loss: 1.5974\n",
            "Epoch 3/10\n",
            "\u001b[1m1715/1715\u001b[0m \u001b[32m━━━━━━━━━━━━━━━━━━━━\u001b[0m\u001b[37m\u001b[0m \u001b[1m17s\u001b[0m 10ms/step - accuracy: 0.9576 - loss: 0.1092 - val_accuracy: 0.6708 - val_loss: 1.6261\n",
            "Epoch 4/10\n",
            "\u001b[1m1715/1715\u001b[0m \u001b[32m━━━━━━━━━━━━━━━━━━━━\u001b[0m\u001b[37m\u001b[0m \u001b[1m20s\u001b[0m 10ms/step - accuracy: 0.9614 - loss: 0.0997 - val_accuracy: 0.6622 - val_loss: 1.5137\n",
            "Epoch 5/10\n",
            "\u001b[1m1715/1715\u001b[0m \u001b[32m━━━━━━━━━━━━━━━━━━━━\u001b[0m\u001b[37m\u001b[0m \u001b[1m16s\u001b[0m 10ms/step - accuracy: 0.9593 - loss: 0.1109 - val_accuracy: 0.6648 - val_loss: 1.5115\n",
            "Epoch 6/10\n",
            "\u001b[1m1715/1715\u001b[0m \u001b[32m━━━━━━━━━━━━━━━━━━━━\u001b[0m\u001b[37m\u001b[0m \u001b[1m21s\u001b[0m 10ms/step - accuracy: 0.9722 - loss: 0.0743 - val_accuracy: 0.6759 - val_loss: 1.4260\n",
            "Epoch 7/10\n",
            "\u001b[1m1715/1715\u001b[0m \u001b[32m━━━━━━━━━━━━━━━━━━━━\u001b[0m\u001b[37m\u001b[0m \u001b[1m20s\u001b[0m 10ms/step - accuracy: 0.9740 - loss: 0.0685 - val_accuracy: 0.6673 - val_loss: 1.7531\n",
            "Epoch 8/10\n",
            "\u001b[1m1715/1715\u001b[0m \u001b[32m━━━━━━━━━━━━━━━━━━━━\u001b[0m\u001b[37m\u001b[0m \u001b[1m21s\u001b[0m 10ms/step - accuracy: 0.9720 - loss: 0.0771 - val_accuracy: 0.6636 - val_loss: 1.6998\n",
            "Epoch 9/10\n",
            "\u001b[1m1715/1715\u001b[0m \u001b[32m━━━━━━━━━━━━━━━━━━━━\u001b[0m\u001b[37m\u001b[0m \u001b[1m16s\u001b[0m 9ms/step - accuracy: 0.9743 - loss: 0.0668 - val_accuracy: 0.6749 - val_loss: 1.8027\n",
            "Epoch 10/10\n",
            "\u001b[1m1715/1715\u001b[0m \u001b[32m━━━━━━━━━━━━━━━━━━━━\u001b[0m\u001b[37m\u001b[0m \u001b[1m17s\u001b[0m 10ms/step - accuracy: 0.9742 - loss: 0.0698 - val_accuracy: 0.6692 - val_loss: 1.7439\n",
            "\u001b[1m858/858\u001b[0m \u001b[32m━━━━━━━━━━━━━━━━━━━━\u001b[0m\u001b[37m\u001b[0m \u001b[1m3s\u001b[0m 3ms/step\n",
            "              precision    recall  f1-score   support\n",
            "\n",
            "           0       0.23      0.22      0.22      2700\n",
            "           1       0.81      0.76      0.79     21621\n",
            "           2       0.28      0.41      0.34      3119\n",
            "\n",
            "    accuracy                           0.67     27440\n",
            "   macro avg       0.44      0.46      0.45     27440\n",
            "weighted avg       0.69      0.67      0.68     27440\n",
            "\n"
          ]
        }
      ]
    },
    {
      "cell_type": "markdown",
      "source": [
        "we then choose Κ=20, α=1bp as our benchmark."
      ],
      "metadata": {
        "id": "s87Gsq5sxNl6"
      }
    },
    {
      "cell_type": "markdown",
      "source": [
        "# Feature Engineering"
      ],
      "metadata": {
        "id": "g-dYrh02yRp4"
      }
    },
    {
      "cell_type": "code",
      "source": [
        "def Normalization(df):\n",
        "\n",
        "  dff = df.copy()\n",
        "\n",
        "  # relative price\n",
        "  ## forward\n",
        "  dff['bidforward_rel'] = (dff['bidforward'] - dff['midforward'])/dff['midforward']\n",
        "  dff['askforward_rel'] = (dff['askforward'] - dff['midforward'])/dff['midforward']\n",
        "  ## IC\n",
        "  dff['mid_IC'] = (dff['BidPrice1'] + dff['AskPrice1'])/2\n",
        "  dff['BidPrice1_rel'] = (dff['BidPrice1'] - dff['mid_IC']) / dff['mid_IC']\n",
        "  dff['BidPrice2_rel'] = (dff['BidPrice2'] - dff['mid_IC']) / dff['mid_IC']\n",
        "  dff['AskPrice1_rel'] = (dff['AskPrice1'] - dff['mid_IC']) / dff['mid_IC']\n",
        "  dff['AskPrice2_rel'] = (dff['AskPrice2'] - dff['mid_IC']) / dff['mid_IC']\n",
        "  dff['Vwap_rel'] = (dff['Vwap'] - dff['mid_IC']) / dff['mid_IC']\n",
        "  ## ETF\n",
        "  dff['mid_ETF'] = (dff['ETFBidPrice1'] + dff['ETFAskPrice1'])/2\n",
        "  dff['ETFBidPrice1_rel'] = (dff['ETFBidPrice1'] - dff['mid_ETF']) / dff['mid_ETF']\n",
        "  dff['ETFAskPrice1_rel'] = (dff['ETFAskPrice1'] - dff['mid_ETF']) / dff['mid_ETF']\n",
        "  dff['ETFLastPrice'] = (dff['ETFLastPrice'] - dff['mid_ETF']) / dff['mid_ETF']\n",
        "\n",
        "  # volume\n",
        "  for col in [\n",
        "    'BidVol1', 'BidVol2', 'AskVol1', 'AskVol2',\n",
        "    'ETFBidVol1', 'ETFAskVol1', 'ETFVolume', 'ETFTotalValueTraded'\n",
        "    ]:\n",
        "\n",
        "    dff[col + '_log'] = np.log1p(dff[col])\n",
        "\n",
        "  feature_cols = [\n",
        "    'bidforward_rel', 'askforward_rel', 'midforward', 'K', 'Vwap_rel',\n",
        "    'BidPrice1_rel', 'BidPrice2_rel', 'AskPrice1_rel', 'AskPrice2_rel',\n",
        "    'BidVol1_log', 'BidVol2_log', 'AskVol1_log', 'AskVol2_log',\n",
        "    'ETFBidPrice1_rel', 'ETFAskPrice1_rel',\n",
        "    'ETFBidVol1_log', 'ETFAskVol1_log',\n",
        "    'ETFVolume_log', 'ETFLastPrice', 'ETFTotalValueTraded_log', 'iopv'\n",
        "    ]\n",
        "\n",
        "  features = dff[feature_cols]\n",
        "\n",
        "  target = dff['Vwap_ETFPrice'].values\n",
        "\n",
        "  return features, target"
      ],
      "metadata": {
        "id": "uGLQUEDWJPzS"
      },
      "execution_count": 7,
      "outputs": []
    },
    {
      "cell_type": "code",
      "source": [
        "early_stopping = EarlyStopping(monitor='val_loss', patience=5, restore_best_weights=True)\n",
        "\n",
        "features, target = Normalization (df)\n",
        "X, y = sample_generating(k=20, alpha=1e-4)\n",
        "\n",
        "X_train, X_test, y_train, y_test = train_test_split(X, y, test_size=0.2, shuffle=False)\n",
        "\n",
        "history = model.fit(\n",
        "    X_train, y_train,\n",
        "    epochs=20,\n",
        "    batch_size=64,\n",
        "    validation_data=(X_test, y_test),\n",
        "    callbacks=[early_stopping]\n",
        ")\n",
        "\n",
        "# ===== 模型预测与评估 =====\n",
        "y_pred = model.predict(X_test)\n",
        "y_pred_label = np.argmax(y_pred, axis=1)\n",
        "\n",
        "print(classification_report(y_test, y_pred_label))"
      ],
      "metadata": {
        "colab": {
          "base_uri": "https://localhost:8080/"
        },
        "id": "TpxM13SwOi0b",
        "outputId": "629e7dff-5e6b-4e22-ccd3-132c6bc5f625"
      },
      "execution_count": 11,
      "outputs": [
        {
          "output_type": "stream",
          "name": "stdout",
          "text": [
            "Epoch 1/20\n",
            "\u001b[1m2758/2758\u001b[0m \u001b[32m━━━━━━━━━━━━━━━━━━━━\u001b[0m\u001b[37m\u001b[0m \u001b[1m35s\u001b[0m 11ms/step - accuracy: 0.6361 - loss: 0.7658 - val_accuracy: 0.5869 - val_loss: 0.8280\n",
            "Epoch 2/20\n",
            "\u001b[1m2758/2758\u001b[0m \u001b[32m━━━━━━━━━━━━━━━━━━━━\u001b[0m\u001b[37m\u001b[0m \u001b[1m28s\u001b[0m 10ms/step - accuracy: 0.6565 - loss: 0.7163 - val_accuracy: 0.4855 - val_loss: 0.9437\n",
            "Epoch 3/20\n",
            "\u001b[1m2758/2758\u001b[0m \u001b[32m━━━━━━━━━━━━━━━━━━━━\u001b[0m\u001b[37m\u001b[0m \u001b[1m28s\u001b[0m 10ms/step - accuracy: 0.6629 - loss: 0.7029 - val_accuracy: 0.6374 - val_loss: 0.7964\n",
            "Epoch 4/20\n",
            "\u001b[1m2758/2758\u001b[0m \u001b[32m━━━━━━━━━━━━━━━━━━━━\u001b[0m\u001b[37m\u001b[0m \u001b[1m28s\u001b[0m 10ms/step - accuracy: 0.6706 - loss: 0.6921 - val_accuracy: 0.6401 - val_loss: 0.8041\n",
            "Epoch 5/20\n",
            "\u001b[1m2758/2758\u001b[0m \u001b[32m━━━━━━━━━━━━━━━━━━━━\u001b[0m\u001b[37m\u001b[0m \u001b[1m28s\u001b[0m 10ms/step - accuracy: 0.6788 - loss: 0.6796 - val_accuracy: 0.6275 - val_loss: 0.9330\n",
            "Epoch 6/20\n",
            "\u001b[1m2758/2758\u001b[0m \u001b[32m━━━━━━━━━━━━━━━━━━━━\u001b[0m\u001b[37m\u001b[0m \u001b[1m28s\u001b[0m 10ms/step - accuracy: 0.6864 - loss: 0.6663 - val_accuracy: 0.5357 - val_loss: 0.9564\n",
            "Epoch 7/20\n",
            "\u001b[1m2758/2758\u001b[0m \u001b[32m━━━━━━━━━━━━━━━━━━━━\u001b[0m\u001b[37m\u001b[0m \u001b[1m28s\u001b[0m 10ms/step - accuracy: 0.6961 - loss: 0.6513 - val_accuracy: 0.4278 - val_loss: 1.2435\n",
            "Epoch 8/20\n",
            "\u001b[1m2758/2758\u001b[0m \u001b[32m━━━━━━━━━━━━━━━━━━━━\u001b[0m\u001b[37m\u001b[0m \u001b[1m28s\u001b[0m 10ms/step - accuracy: 0.7030 - loss: 0.6365 - val_accuracy: 0.4926 - val_loss: 1.0398\n",
            "\u001b[1m1379/1379\u001b[0m \u001b[32m━━━━━━━━━━━━━━━━━━━━\u001b[0m\u001b[37m\u001b[0m \u001b[1m4s\u001b[0m 3ms/step\n",
            "              precision    recall  f1-score   support\n",
            "\n",
            "           0       0.77      0.05      0.10      9130\n",
            "           1       0.64      0.92      0.75     26073\n",
            "           2       0.64      0.42      0.51      8923\n",
            "\n",
            "    accuracy                           0.64     44126\n",
            "   macro avg       0.68      0.46      0.45     44126\n",
            "weighted avg       0.66      0.64      0.57     44126\n",
            "\n"
          ]
        }
      ]
    },
    {
      "cell_type": "markdown",
      "source": [
        "it shows that feature engineering (mainly normalization) works."
      ],
      "metadata": {
        "id": "JODW0WlnJDop"
      }
    },
    {
      "cell_type": "markdown",
      "source": [
        "good idea: how to know if it's over-fitting"
      ],
      "metadata": {
        "id": "7kgQIq-ywcly"
      }
    },
    {
      "cell_type": "code",
      "source": [
        "# ========= 1. 测试集预测与评估 =========\n",
        "y_pred = model.predict(X_test)\n",
        "y_pred_label = np.argmax(y_pred, axis=1)\n",
        "\n",
        "print(\"=== 测试集评估 ===\")\n",
        "print(classification_report(y_test, y_pred_label))\n",
        "\n",
        "# ========= 2. 训练集预测与评估（用于判断过拟合） =========\n",
        "y_pred_train = model.predict(X_train)\n",
        "y_pred_train_label = np.argmax(y_pred_train, axis=1)\n",
        "\n",
        "print(\"=== 训练集评估 ===\")\n",
        "print(classification_report(y_train, y_pred_train_label))"
      ],
      "metadata": {
        "id": "VZA99XkM36Ws",
        "colab": {
          "base_uri": "https://localhost:8080/"
        },
        "outputId": "67e2380a-e5d8-4e0d-b2a3-be403055c3e6"
      },
      "execution_count": 12,
      "outputs": [
        {
          "output_type": "stream",
          "name": "stdout",
          "text": [
            "\u001b[1m1379/1379\u001b[0m \u001b[32m━━━━━━━━━━━━━━━━━━━━\u001b[0m\u001b[37m\u001b[0m \u001b[1m4s\u001b[0m 3ms/step\n",
            "=== 测试集评估 ===\n",
            "              precision    recall  f1-score   support\n",
            "\n",
            "           0       0.77      0.05      0.10      9130\n",
            "           1       0.64      0.92      0.75     26073\n",
            "           2       0.64      0.42      0.51      8923\n",
            "\n",
            "    accuracy                           0.64     44126\n",
            "   macro avg       0.68      0.46      0.45     44126\n",
            "weighted avg       0.66      0.64      0.57     44126\n",
            "\n",
            "\u001b[1m5516/5516\u001b[0m \u001b[32m━━━━━━━━━━━━━━━━━━━━\u001b[0m\u001b[37m\u001b[0m \u001b[1m15s\u001b[0m 3ms/step\n",
            "=== 训练集评估 ===\n",
            "              precision    recall  f1-score   support\n",
            "\n",
            "           0       0.81      0.07      0.13     35227\n",
            "           1       0.64      0.92      0.75    105255\n",
            "           2       0.62      0.36      0.45     36021\n",
            "\n",
            "    accuracy                           0.64    176503\n",
            "   macro avg       0.69      0.45      0.45    176503\n",
            "weighted avg       0.67      0.64      0.57    176503\n",
            "\n"
          ]
        }
      ]
    },
    {
      "cell_type": "code",
      "source": [
        "# ========= 3. 绘制 Loss 和 Accuracy 曲线 =========\n",
        "plt.figure(figsize=(12, 5))\n",
        "\n",
        "# 绘制 loss\n",
        "plt.subplot(1, 2, 1)\n",
        "plt.plot(history.history['loss'], label='Train Loss')\n",
        "plt.plot(history.history['val_loss'], label='Val Loss')\n",
        "plt.title('Loss over Epochs')\n",
        "plt.xlabel('Epoch')\n",
        "plt.ylabel('Loss')\n",
        "plt.legend()\n",
        "\n",
        "# 绘制 accuracy\n",
        "plt.subplot(1, 2, 2)\n",
        "plt.plot(history.history['accuracy'], label='Train Acc')\n",
        "plt.plot(history.history['val_accuracy'], label='Val Acc')\n",
        "plt.title('Accuracy over Epochs')\n",
        "plt.xlabel('Epoch')\n",
        "plt.ylabel('Accuracy')\n",
        "plt.legend()\n",
        "\n",
        "plt.tight_layout()\n",
        "plt.show()"
      ],
      "metadata": {
        "id": "OdD_TNfX1ZHU",
        "colab": {
          "base_uri": "https://localhost:8080/",
          "height": 507
        },
        "outputId": "f227d601-d0d1-41ed-e1d8-2cb3025ab381"
      },
      "execution_count": 13,
      "outputs": [
        {
          "output_type": "display_data",
          "data": {
            "text/plain": [
              "<Figure size 1200x500 with 2 Axes>"
            ],
            "image/png": "[encoded data removed]"
          },
          "metadata": {}
        }
      ]
    },
    {
      "cell_type": "markdown",
      "source": [
        "# Technical Modification"
      ],
      "metadata": {
        "id": "CZ9BNiljzFZ6"
      }
    },
    {
      "cell_type": "markdown",
      "source": [
        "在上面的模型中，我们通过设置参数（κ 和 α），以及特征工程，初步取得了一个较好的结果。然而问题仍然存在，我们目前面临的问题是：模型结果并不稳定，时而高时而低，同时可能会出现过拟合问题。\n",
        "我们有以下几个方式可以调整：\n",
        "1. Batch normalization层和dropout层调整\n",
        "2. 参数调整：epochs、learning rate\n",
        "3. early stopping的设计"
      ],
      "metadata": {
        "id": "xeV9lBAHzIir"
      }
    },
    {
      "cell_type": "code",
      "source": [
        "from tensorflow.keras import layers, models\n",
        "from keras.callbacks import EarlyStopping, ReduceLROnPlateau\n",
        "from tensorflow.keras.optimizers import Adam\n",
        "\n",
        "def build_stable_deeplob(input_shape, num_classes=3, dropout_rate=0.2):\n",
        "    inp = layers.Input(shape=input_shape)\n",
        "\n",
        "    x = layers.Conv1D(64, 3, padding='same')(inp)\n",
        "    x = layers.BatchNormalization()(x)\n",
        "    x = layers.LeakyReLU(negative_slope=0.1)(x)\n",
        "    x = layers.Dropout(dropout_rate)(x)\n",
        "\n",
        "    x = layers.Conv1D(64, 3, padding='same')(x)\n",
        "    x = layers.BatchNormalization()(x)\n",
        "    x = layers.LeakyReLU(negative_slope=0.1)(x)\n",
        "    x = layers.Dropout(dropout_rate)(x)\n",
        "\n",
        "    x = layers.LSTM(64, return_sequences=False)(x)\n",
        "    x = layers.Dense(64, activation='relu')(x)\n",
        "    x = layers.Dropout(dropout_rate)(x)\n",
        "\n",
        "    out = layers.Dense(num_classes, activation='softmax')(x)\n",
        "\n",
        "    model = models.Model(inputs=inp, outputs=out)\n",
        "    return model"
      ],
      "metadata": {
        "id": "BP6M2vubzEul"
      },
      "execution_count": 9,
      "outputs": []
    },
    {
      "cell_type": "code",
      "source": [
        "model = build_stable_deeplob(input_shape)\n",
        "model.compile(optimizer=Adam(1e-4, amsgrad=True), loss='sparse_categorical_crossentropy', metrics=['accuracy'])\n",
        "\n",
        "early_stopping = EarlyStopping(monitor='val_loss', patience=5, restore_best_weights=True)\n",
        "lr_scheduler = ReduceLROnPlateau(monitor='val_loss', factor=0.5, patience=2, min_lr=1e-6)\n",
        "\n",
        "history = model.fit(\n",
        "    X_train, y_train,\n",
        "    epochs=30,\n",
        "    batch_size=64,\n",
        "    validation_data=(X_test, y_test),\n",
        "    callbacks=[early_stopping, lr_scheduler]\n",
        ")"
      ],
      "metadata": {
        "colab": {
          "base_uri": "https://localhost:8080/"
        },
        "id": "ZNCoLoWHzE-k",
        "outputId": "9264cbc3-350b-45ee-bbdd-7594b6f9f582"
      },
      "execution_count": 20,
      "outputs": [
        {
          "metadata": {
            "tags": null
          },
          "name": "stderr",
          "output_type": "stream",
          "text": [
            "/usr/local/lib/python3.11/dist-packages/keras/src/layers/activations/leaky_relu.py:41: UserWarning: Argument `alpha` is deprecated. Use `negative_slope` instead.\n",
            "  warnings.warn(\n"
          ]
        },
        {
          "output_type": "stream",
          "name": "stdout",
          "text": [
            "Epoch 1/30\n",
            "\u001b[1m2758/2758\u001b[0m \u001b[32m━━━━━━━━━━━━━━━━━━━━\u001b[0m\u001b[37m\u001b[0m \u001b[1m32s\u001b[0m 10ms/step - accuracy: 0.6152 - loss: 0.8204 - val_accuracy: 0.6521 - val_loss: 0.7519 - learning_rate: 1.0000e-04\n",
            "Epoch 2/30\n",
            "\u001b[1m2758/2758\u001b[0m \u001b[32m━━━━━━━━━━━━━━━━━━━━\u001b[0m\u001b[37m\u001b[0m \u001b[1m27s\u001b[0m 10ms/step - accuracy: 0.6506 - loss: 0.7245 - val_accuracy: 0.6556 - val_loss: 0.7371 - learning_rate: 1.0000e-04\n",
            "Epoch 3/30\n",
            "\u001b[1m2758/2758\u001b[0m \u001b[32m━━━━━━━━━━━━━━━━━━━━\u001b[0m\u001b[37m\u001b[0m \u001b[1m27s\u001b[0m 10ms/step - accuracy: 0.6603 - loss: 0.7118 - val_accuracy: 0.6484 - val_loss: 0.7475 - learning_rate: 1.0000e-04\n",
            "Epoch 4/30\n",
            "\u001b[1m2758/2758\u001b[0m \u001b[32m━━━━━━━━━━━━━━━━━━━━\u001b[0m\u001b[37m\u001b[0m \u001b[1m27s\u001b[0m 10ms/step - accuracy: 0.6639 - loss: 0.7033 - val_accuracy: 0.6438 - val_loss: 0.7888 - learning_rate: 1.0000e-04\n",
            "Epoch 5/30\n",
            "\u001b[1m2758/2758\u001b[0m \u001b[32m━━━━━━━━━━━━━━━━━━━━\u001b[0m\u001b[37m\u001b[0m \u001b[1m27s\u001b[0m 10ms/step - accuracy: 0.6664 - loss: 0.6971 - val_accuracy: 0.6499 - val_loss: 0.7344 - learning_rate: 5.0000e-05\n",
            "Epoch 6/30\n",
            "\u001b[1m2758/2758\u001b[0m \u001b[32m━━━━━━━━━━━━━━━━━━━━\u001b[0m\u001b[37m\u001b[0m \u001b[1m27s\u001b[0m 10ms/step - accuracy: 0.6700 - loss: 0.6948 - val_accuracy: 0.6500 - val_loss: 0.7362 - learning_rate: 5.0000e-05\n",
            "Epoch 7/30\n",
            "\u001b[1m2758/2758\u001b[0m \u001b[32m━━━━━━━━━━━━━━━━━━━━\u001b[0m\u001b[37m\u001b[0m \u001b[1m27s\u001b[0m 10ms/step - accuracy: 0.6717 - loss: 0.6916 - val_accuracy: 0.6438 - val_loss: 0.7523 - learning_rate: 5.0000e-05\n",
            "Epoch 8/30\n",
            "\u001b[1m2758/2758\u001b[0m \u001b[32m━━━━━━━━━━━━━━━━━━━━\u001b[0m\u001b[37m\u001b[0m \u001b[1m28s\u001b[0m 10ms/step - accuracy: 0.6736 - loss: 0.6878 - val_accuracy: 0.6573 - val_loss: 0.7402 - learning_rate: 2.5000e-05\n",
            "Epoch 9/30\n",
            "\u001b[1m2758/2758\u001b[0m \u001b[32m━━━━━━━━━━━━━━━━━━━━\u001b[0m\u001b[37m\u001b[0m \u001b[1m28s\u001b[0m 10ms/step - accuracy: 0.6733 - loss: 0.6874 - val_accuracy: 0.6586 - val_loss: 0.7320 - learning_rate: 2.5000e-05\n",
            "Epoch 10/30\n",
            "\u001b[1m2758/2758\u001b[0m \u001b[32m━━━━━━━━━━━━━━━━━━━━\u001b[0m\u001b[37m\u001b[0m \u001b[1m28s\u001b[0m 10ms/step - accuracy: 0.6773 - loss: 0.6817 - val_accuracy: 0.6484 - val_loss: 0.7402 - learning_rate: 2.5000e-05\n",
            "Epoch 11/30\n",
            "\u001b[1m2758/2758\u001b[0m \u001b[32m━━━━━━━━━━━━━━━━━━━━\u001b[0m\u001b[37m\u001b[0m \u001b[1m28s\u001b[0m 10ms/step - accuracy: 0.6780 - loss: 0.6802 - val_accuracy: 0.6484 - val_loss: 0.7663 - learning_rate: 2.5000e-05\n",
            "Epoch 12/30\n",
            "\u001b[1m2758/2758\u001b[0m \u001b[32m━━━━━━━━━━━━━━━━━━━━\u001b[0m\u001b[37m\u001b[0m \u001b[1m28s\u001b[0m 10ms/step - accuracy: 0.6759 - loss: 0.6814 - val_accuracy: 0.6490 - val_loss: 0.7533 - learning_rate: 1.2500e-05\n",
            "Epoch 13/30\n",
            "\u001b[1m2758/2758\u001b[0m \u001b[32m━━━━━━━━━━━━━━━━━━━━\u001b[0m\u001b[37m\u001b[0m \u001b[1m28s\u001b[0m 10ms/step - accuracy: 0.6798 - loss: 0.6769 - val_accuracy: 0.6445 - val_loss: 0.7483 - learning_rate: 1.2500e-05\n",
            "Epoch 14/30\n",
            "\u001b[1m2758/2758\u001b[0m \u001b[32m━━━━━━━━━━━━━━━━━━━━\u001b[0m\u001b[37m\u001b[0m \u001b[1m28s\u001b[0m 10ms/step - accuracy: 0.6777 - loss: 0.6800 - val_accuracy: 0.6464 - val_loss: 0.7504 - learning_rate: 6.2500e-06\n"
          ]
        }
      ]
    },
    {
      "cell_type": "code",
      "source": [
        "# ========= 1. 测试集预测与评估 =========\n",
        "y_pred = model.predict(X_test)\n",
        "y_pred_label = np.argmax(y_pred, axis=1)\n",
        "\n",
        "print(\"=== 测试集评估 ===\")\n",
        "print(classification_report(y_test, y_pred_label))\n",
        "\n",
        "# ========= 2. 训练集预测与评估（用于判断过拟合） =========\n",
        "y_pred_train = model.predict(X_train)\n",
        "y_pred_train_label = np.argmax(y_pred_train, axis=1)\n",
        "\n",
        "print(\"=== 训练集评估 ===\")\n",
        "print(classification_report(y_train, y_pred_train_label))"
      ],
      "metadata": {
        "colab": {
          "base_uri": "https://localhost:8080/"
        },
        "id": "QO57PkHyzFBU",
        "outputId": "9e5c290b-cd69-4f9d-de87-e9da6c44fff2"
      },
      "execution_count": 21,
      "outputs": [
        {
          "output_type": "stream",
          "name": "stdout",
          "text": [
            "\u001b[1m1379/1379\u001b[0m \u001b[32m━━━━━━━━━━━━━━━━━━━━\u001b[0m\u001b[37m\u001b[0m \u001b[1m4s\u001b[0m 3ms/step\n",
            "=== 测试集评估 ===\n",
            "              precision    recall  f1-score   support\n",
            "\n",
            "           0       0.66      0.28      0.39      9130\n",
            "           1       0.66      0.90      0.76     26073\n",
            "           2       0.66      0.35      0.46      8923\n",
            "\n",
            "    accuracy                           0.66     44126\n",
            "   macro avg       0.66      0.51      0.54     44126\n",
            "weighted avg       0.66      0.66      0.62     44126\n",
            "\n",
            "\u001b[1m5516/5516\u001b[0m \u001b[32m━━━━━━━━━━━━━━━━━━━━\u001b[0m\u001b[37m\u001b[0m \u001b[1m14s\u001b[0m 3ms/step\n",
            "=== 训练集评估 ===\n",
            "              precision    recall  f1-score   support\n",
            "\n",
            "           0       0.66      0.40      0.50     35227\n",
            "           1       0.70      0.86      0.77    105255\n",
            "           2       0.63      0.44      0.52     36021\n",
            "\n",
            "    accuracy                           0.68    176503\n",
            "   macro avg       0.66      0.57      0.59    176503\n",
            "weighted avg       0.67      0.68      0.66    176503\n",
            "\n"
          ]
        }
      ]
    },
    {
      "cell_type": "code",
      "source": [
        "# ========= 3. 绘制 Loss 和 Accuracy 曲线 =========\n",
        "plt.figure(figsize=(12, 5))\n",
        "\n",
        "# 绘制 loss\n",
        "plt.subplot(1, 2, 1)\n",
        "plt.plot(history.history['loss'], label='Train Loss')\n",
        "plt.plot(history.history['val_loss'], label='Val Loss')\n",
        "plt.title('Loss over Epochs')\n",
        "plt.xlabel('Epoch')\n",
        "plt.ylabel('Loss')\n",
        "plt.legend()\n",
        "\n",
        "# 绘制 accuracy\n",
        "plt.subplot(1, 2, 2)\n",
        "plt.plot(history.history['accuracy'], label='Train Acc')\n",
        "plt.plot(history.history['val_accuracy'], label='Val Acc')\n",
        "plt.title('Accuracy over Epochs')\n",
        "plt.xlabel('Epoch')\n",
        "plt.ylabel('Accuracy')\n",
        "plt.legend()\n",
        "\n",
        "plt.tight_layout()\n",
        "plt.show()"
      ],
      "metadata": {
        "colab": {
          "base_uri": "https://localhost:8080/",
          "height": 507
        },
        "id": "994w7e6xzFD3",
        "outputId": "8eed26f4-9c7c-44f5-e74d-0fbb37995f8e"
      },
      "execution_count": 22,
      "outputs": [
        {
          "output_type": "display_data",
          "data": {
            "text/plain": [
              "<Figure size 1200x500 with 2 Axes>"
            ],
            "image/png": "[encoded data removed]"
          },
          "metadata": {}
        }
      ]
    },
    {
      "cell_type": "markdown",
      "source": [
        "我们初步算是调和了过拟合的问题？如果再run一遍model，可以看看结果会不会变化。"
      ],
      "metadata": {
        "id": "rTOfHrx74ULe"
      }
    },
    {
      "cell_type": "code",
      "source": [
        "model = build_stable_deeplob(input_shape)\n",
        "model.compile(optimizer=Adam(1e-4, amsgrad=True), loss='sparse_categorical_crossentropy', metrics=['accuracy'])\n",
        "\n",
        "early_stopping = EarlyStopping(monitor='val_loss', patience=5, restore_best_weights=True)\n",
        "lr_scheduler = ReduceLROnPlateau(monitor='val_loss', factor=0.5, patience=2, min_lr=1e-6)\n",
        "\n",
        "history = model.fit(\n",
        "    X_train, y_train,\n",
        "    epochs=30,\n",
        "    batch_size=64,\n",
        "    validation_data=(X_test, y_test),\n",
        "    callbacks=[early_stopping, lr_scheduler]\n",
        ")"
      ],
      "metadata": {
        "colab": {
          "base_uri": "https://localhost:8080/"
        },
        "id": "8XdW5mBCzFGU",
        "outputId": "c80cff12-38b7-4f38-c15f-18b085afbc36"
      },
      "execution_count": 25,
      "outputs": [
        {
          "output_type": "stream",
          "name": "stderr",
          "text": [
            "/usr/local/lib/python3.11/dist-packages/keras/src/layers/activations/leaky_relu.py:41: UserWarning: Argument `alpha` is deprecated. Use `negative_slope` instead.\n",
            "  warnings.warn(\n"
          ]
        },
        {
          "output_type": "stream",
          "name": "stdout",
          "text": [
            "Epoch 1/30\n",
            "\u001b[1m2758/2758\u001b[0m \u001b[32m━━━━━━━━━━━━━━━━━━━━\u001b[0m\u001b[37m\u001b[0m \u001b[1m32s\u001b[0m 10ms/step - accuracy: 0.6142 - loss: 0.8263 - val_accuracy: 0.6522 - val_loss: 0.7317 - learning_rate: 1.0000e-04\n",
            "Epoch 2/30\n",
            "\u001b[1m2758/2758\u001b[0m \u001b[32m━━━━━━━━━━━━━━━━━━━━\u001b[0m\u001b[37m\u001b[0m \u001b[1m28s\u001b[0m 10ms/step - accuracy: 0.6512 - loss: 0.7236 - val_accuracy: 0.6516 - val_loss: 0.7465 - learning_rate: 1.0000e-04\n",
            "Epoch 3/30\n",
            "\u001b[1m2758/2758\u001b[0m \u001b[32m━━━━━━━━━━━━━━━━━━━━\u001b[0m\u001b[37m\u001b[0m \u001b[1m28s\u001b[0m 10ms/step - accuracy: 0.6568 - loss: 0.7133 - val_accuracy: 0.6517 - val_loss: 0.7387 - learning_rate: 1.0000e-04\n",
            "Epoch 4/30\n",
            "\u001b[1m2758/2758\u001b[0m \u001b[32m━━━━━━━━━━━━━━━━━━━━\u001b[0m\u001b[37m\u001b[0m \u001b[1m28s\u001b[0m 10ms/step - accuracy: 0.6609 - loss: 0.7068 - val_accuracy: 0.6525 - val_loss: 0.7394 - learning_rate: 5.0000e-05\n",
            "Epoch 5/30\n",
            "\u001b[1m2758/2758\u001b[0m \u001b[32m━━━━━━━━━━━━━━━━━━━━\u001b[0m\u001b[37m\u001b[0m \u001b[1m29s\u001b[0m 10ms/step - accuracy: 0.6653 - loss: 0.7018 - val_accuracy: 0.6473 - val_loss: 0.7423 - learning_rate: 5.0000e-05\n",
            "Epoch 6/30\n",
            "\u001b[1m2758/2758\u001b[0m \u001b[32m━━━━━━━━━━━━━━━━━━━━\u001b[0m\u001b[37m\u001b[0m \u001b[1m29s\u001b[0m 10ms/step - accuracy: 0.6653 - loss: 0.6999 - val_accuracy: 0.6552 - val_loss: 0.7254 - learning_rate: 2.5000e-05\n",
            "Epoch 7/30\n",
            "\u001b[1m2758/2758\u001b[0m \u001b[32m━━━━━━━━━━━━━━━━━━━━\u001b[0m\u001b[37m\u001b[0m \u001b[1m28s\u001b[0m 10ms/step - accuracy: 0.6698 - loss: 0.6964 - val_accuracy: 0.6566 - val_loss: 0.7300 - learning_rate: 2.5000e-05\n",
            "Epoch 8/30\n",
            "\u001b[1m2758/2758\u001b[0m \u001b[32m━━━━━━━━━━━━━━━━━━━━\u001b[0m\u001b[37m\u001b[0m \u001b[1m28s\u001b[0m 10ms/step - accuracy: 0.6707 - loss: 0.6944 - val_accuracy: 0.6475 - val_loss: 0.7400 - learning_rate: 2.5000e-05\n",
            "Epoch 9/30\n",
            "\u001b[1m2758/2758\u001b[0m \u001b[32m━━━━━━━━━━━━━━━━━━━━\u001b[0m\u001b[37m\u001b[0m \u001b[1m29s\u001b[0m 10ms/step - accuracy: 0.6692 - loss: 0.6934 - val_accuracy: 0.6564 - val_loss: 0.7276 - learning_rate: 1.2500e-05\n",
            "Epoch 10/30\n",
            "\u001b[1m2758/2758\u001b[0m \u001b[32m━━━━━━━━━━━━━━━━━━━━\u001b[0m\u001b[37m\u001b[0m \u001b[1m29s\u001b[0m 10ms/step - accuracy: 0.6704 - loss: 0.6939 - val_accuracy: 0.6543 - val_loss: 0.7268 - learning_rate: 1.2500e-05\n",
            "Epoch 11/30\n",
            "\u001b[1m2758/2758\u001b[0m \u001b[32m━━━━━━━━━━━━━━━━━━━━\u001b[0m\u001b[37m\u001b[0m \u001b[1m29s\u001b[0m 10ms/step - accuracy: 0.6706 - loss: 0.6931 - val_accuracy: 0.6544 - val_loss: 0.7258 - learning_rate: 6.2500e-06\n"
          ]
        }
      ]
    },
    {
      "cell_type": "code",
      "source": [
        "# ========= 1. 测试集预测与评估 =========\n",
        "y_pred = model.predict(X_test)\n",
        "y_pred_label = np.argmax(y_pred, axis=1)\n",
        "\n",
        "print(\"=== 测试集评估 ===\")\n",
        "print(classification_report(y_test, y_pred_label))\n",
        "\n",
        "# ========= 2. 训练集预测与评估（用于判断过拟合） =========\n",
        "y_pred_train = model.predict(X_train)\n",
        "y_pred_train_label = np.argmax(y_pred_train, axis=1)\n",
        "\n",
        "print(\"=== 训练集评估 ===\")\n",
        "print(classification_report(y_train, y_pred_train_label))"
      ],
      "metadata": {
        "colab": {
          "base_uri": "https://localhost:8080/"
        },
        "id": "R8zynSZ14jCD",
        "outputId": "2a21076a-c42a-4935-d7b8-6760f139ed81"
      },
      "execution_count": 26,
      "outputs": [
        {
          "output_type": "stream",
          "name": "stdout",
          "text": [
            "\u001b[1m1379/1379\u001b[0m \u001b[32m━━━━━━━━━━━━━━━━━━━━\u001b[0m\u001b[37m\u001b[0m \u001b[1m4s\u001b[0m 3ms/step\n",
            "=== 测试集评估 ===\n",
            "              precision    recall  f1-score   support\n",
            "\n",
            "           0       0.61      0.35      0.44      9130\n",
            "           1       0.66      0.89      0.75     26073\n",
            "           2       0.70      0.29      0.41      8923\n",
            "\n",
            "    accuracy                           0.66     44126\n",
            "   macro avg       0.66      0.51      0.54     44126\n",
            "weighted avg       0.66      0.66      0.62     44126\n",
            "\n",
            "\u001b[1m5516/5516\u001b[0m \u001b[32m━━━━━━━━━━━━━━━━━━━━\u001b[0m\u001b[37m\u001b[0m \u001b[1m15s\u001b[0m 3ms/step\n",
            "=== 训练集评估 ===\n",
            "              precision    recall  f1-score   support\n",
            "\n",
            "           0       0.62      0.44      0.51     35227\n",
            "           1       0.69      0.83      0.76    105255\n",
            "           2       0.61      0.42      0.50     36021\n",
            "\n",
            "    accuracy                           0.67    176503\n",
            "   macro avg       0.64      0.56      0.59    176503\n",
            "weighted avg       0.66      0.67      0.65    176503\n",
            "\n"
          ]
        }
      ]
    },
    {
      "cell_type": "markdown",
      "source": [
        "姑且当我们解决了这个问题"
      ],
      "metadata": {
        "id": "wZnRtvlM8d2F"
      }
    },
    {
      "cell_type": "markdown",
      "source": [
        "| 改进项          | 内容                                             | 原因和意义                             |\n",
        "| ------------ | ---------------------------------------------- | --------------------------------- |\n",
        "| ✅ 激活函数       | `ReLU → LeakyReLU(negative_slope=0.1)`         | 防止神经元“死亡”，改善梯度流，训练更稳定             |\n",
        "| ✅ Dropout 降低 | `0.3 → 0.2`，减少信息丢失                             | 降低模型信号损失，训练效果更充分                  |\n",
        "| ✅ 优化器更稳健     | `AdamW → Adam(amsgrad=True)`                   | `amsgrad` 是更稳定的优化器变体，适合 loss 波动问题 |\n",
        "| ✅ 动态学习率调节    | 添加 `ReduceLROnPlateau`                         | 自动降低学习率，有助于跳出局部最优，fine-tune 收敛结果  |\n",
        "| ✅ 训练监控优化     | 加了 `restore_best_weights=True` 的 EarlyStopping | 确保保存效果最好的模型，而不是最后一轮模型             |"
      ],
      "metadata": {
        "id": "7G3JanGt_VeM"
      }
    },
    {
      "cell_type": "markdown",
      "source": [
        "# Early Stopping"
      ],
      "metadata": {
        "id": "A4IC-FjfKEz7"
      }
    },
    {
      "cell_type": "markdown",
      "source": [
        "我们首先来解决early stopping的问题："
      ],
      "metadata": {
        "id": "TdowEDb2-kcP"
      }
    },
    {
      "cell_type": "markdown",
      "source": [
        "我们想测试early stopping的合理性：是model的问题，还是数据特征使然？"
      ],
      "metadata": {
        "id": "fXbXWTItEpR4"
      }
    },
    {
      "cell_type": "code",
      "source": [
        "def build_another_deeplob(input_shape, num_classes=3, dropout_rate=0.2):\n",
        "    inp = layers.Input(shape=input_shape)\n",
        "\n",
        "    x = layers.Conv1D(64, 5, padding='same')(inp)\n",
        "    x = layers.BatchNormalization()(x)\n",
        "    x = layers.LeakyReLU(negative_slope=0.1)(x)\n",
        "    x = layers.SpatialDropout1D(dropout_rate)(x)\n",
        "\n",
        "    x = layers.Conv1D(128, 3, padding='same')(x)\n",
        "    x = layers.BatchNormalization()(x)\n",
        "    x = layers.LeakyReLU(negative_slope=0.1)(x)\n",
        "    x = layers.SpatialDropout1D(dropout_rate)(x)\n",
        "\n",
        "    x = layers.MaxPooling1D(pool_size=2)(x)\n",
        "\n",
        "    x = layers.LSTM(64, return_sequences=False)(x)\n",
        "    x = layers.Dense(64)(x)\n",
        "    x = layers.LeakyReLU(negative_slope=0.1)(x)\n",
        "    x = layers.Dropout(dropout_rate)(x)\n",
        "\n",
        "    out = layers.Dense(num_classes, activation='softmax')(x)\n",
        "\n",
        "    model = models.Model(inputs=inp, outputs=out)\n",
        "    return model"
      ],
      "metadata": {
        "id": "HZzAMXZJ-soo"
      },
      "execution_count": 15,
      "outputs": []
    },
    {
      "cell_type": "code",
      "source": [
        "model = build_another_deeplob(input_shape)\n",
        "model.compile(optimizer=Adam(1e-4, amsgrad=True), loss='sparse_categorical_crossentropy', metrics=['accuracy'])\n",
        "\n",
        "early_stopping = EarlyStopping(monitor='val_loss', patience=5, restore_best_weights=True)\n",
        "lr_scheduler = ReduceLROnPlateau(monitor='val_loss', factor=0.5, patience=2, min_lr=1e-6)\n",
        "\n",
        "history = model.fit(\n",
        "    X_train, y_train,\n",
        "    epochs=30,\n",
        "    batch_size=64,\n",
        "    validation_data=(X_test, y_test),\n",
        "    callbacks=[early_stopping, lr_scheduler]\n",
        ")\n",
        "\n",
        "# ========= 1. 测试集预测与评估 =========\n",
        "y_pred = model.predict(X_test)\n",
        "y_pred_label = np.argmax(y_pred, axis=1)\n",
        "\n",
        "print(\"=== 测试集评估 ===\")\n",
        "print(classification_report(y_test, y_pred_label))\n",
        "\n",
        "# ========= 2. 训练集预测与评估（用于判断过拟合） =========\n",
        "y_pred_train = model.predict(X_train)\n",
        "y_pred_train_label = np.argmax(y_pred_train, axis=1)\n",
        "\n",
        "print(\"=== 训练集评估 ===\")\n",
        "print(classification_report(y_train, y_pred_train_label))"
      ],
      "metadata": {
        "colab": {
          "base_uri": "https://localhost:8080/"
        },
        "id": "6Sl6Bul2EwHK",
        "outputId": "b92201ac-93cf-4db9-b386-8135a736b7ff"
      },
      "execution_count": 16,
      "outputs": [
        {
          "output_type": "stream",
          "name": "stdout",
          "text": [
            "Epoch 1/30\n",
            "\u001b[1m2758/2758\u001b[0m \u001b[32m━━━━━━━━━━━━━━━━━━━━\u001b[0m\u001b[37m\u001b[0m \u001b[1m30s\u001b[0m 10ms/step - accuracy: 0.6110 - loss: 0.8380 - val_accuracy: 0.6539 - val_loss: 0.7337 - learning_rate: 1.0000e-04\n",
            "Epoch 2/30\n",
            "\u001b[1m2758/2758\u001b[0m \u001b[32m━━━━━━━━━━━━━━━━━━━━\u001b[0m\u001b[37m\u001b[0m \u001b[1m26s\u001b[0m 9ms/step - accuracy: 0.6486 - loss: 0.7295 - val_accuracy: 0.6551 - val_loss: 0.7412 - learning_rate: 1.0000e-04\n",
            "Epoch 3/30\n",
            "\u001b[1m2758/2758\u001b[0m \u001b[32m━━━━━━━━━━━━━━━━━━━━\u001b[0m\u001b[37m\u001b[0m \u001b[1m26s\u001b[0m 9ms/step - accuracy: 0.6579 - loss: 0.7176 - val_accuracy: 0.6629 - val_loss: 0.7162 - learning_rate: 1.0000e-04\n",
            "Epoch 4/30\n",
            "\u001b[1m2758/2758\u001b[0m \u001b[32m━━━━━━━━━━━━━━━━━━━━\u001b[0m\u001b[37m\u001b[0m \u001b[1m26s\u001b[0m 9ms/step - accuracy: 0.6567 - loss: 0.7135 - val_accuracy: 0.6567 - val_loss: 0.7319 - learning_rate: 1.0000e-04\n",
            "Epoch 5/30\n",
            "\u001b[1m2758/2758\u001b[0m \u001b[32m━━━━━━━━━━━━━━━━━━━━\u001b[0m\u001b[37m\u001b[0m \u001b[1m26s\u001b[0m 10ms/step - accuracy: 0.6600 - loss: 0.7087 - val_accuracy: 0.6584 - val_loss: 0.7242 - learning_rate: 1.0000e-04\n",
            "Epoch 6/30\n",
            "\u001b[1m2758/2758\u001b[0m \u001b[32m━━━━━━━━━━━━━━━━━━━━\u001b[0m\u001b[37m\u001b[0m \u001b[1m26s\u001b[0m 9ms/step - accuracy: 0.6633 - loss: 0.7025 - val_accuracy: 0.6586 - val_loss: 0.7176 - learning_rate: 5.0000e-05\n",
            "Epoch 7/30\n",
            "\u001b[1m2758/2758\u001b[0m \u001b[32m━━━━━━━━━━━━━━━━━━━━\u001b[0m\u001b[37m\u001b[0m \u001b[1m26s\u001b[0m 9ms/step - accuracy: 0.6637 - loss: 0.7026 - val_accuracy: 0.6473 - val_loss: 0.7457 - learning_rate: 5.0000e-05\n",
            "Epoch 8/30\n",
            "\u001b[1m2758/2758\u001b[0m \u001b[32m━━━━━━━━━━━━━━━━━━━━\u001b[0m\u001b[37m\u001b[0m \u001b[1m26s\u001b[0m 9ms/step - accuracy: 0.6657 - loss: 0.6998 - val_accuracy: 0.6627 - val_loss: 0.7146 - learning_rate: 2.5000e-05\n",
            "Epoch 9/30\n",
            "\u001b[1m2758/2758\u001b[0m \u001b[32m━━━━━━━━━━━━━━━━━━━━\u001b[0m\u001b[37m\u001b[0m \u001b[1m26s\u001b[0m 9ms/step - accuracy: 0.6667 - loss: 0.6969 - val_accuracy: 0.6622 - val_loss: 0.7185 - learning_rate: 2.5000e-05\n",
            "Epoch 10/30\n",
            "\u001b[1m2758/2758\u001b[0m \u001b[32m━━━━━━━━━━━━━━━━━━━━\u001b[0m\u001b[37m\u001b[0m \u001b[1m26s\u001b[0m 9ms/step - accuracy: 0.6679 - loss: 0.6983 - val_accuracy: 0.6655 - val_loss: 0.7129 - learning_rate: 2.5000e-05\n",
            "Epoch 11/30\n",
            "\u001b[1m2758/2758\u001b[0m \u001b[32m━━━━━━━━━━━━━━━━━━━━\u001b[0m\u001b[37m\u001b[0m \u001b[1m27s\u001b[0m 10ms/step - accuracy: 0.6654 - loss: 0.6978 - val_accuracy: 0.6626 - val_loss: 0.7194 - learning_rate: 2.5000e-05\n",
            "Epoch 12/30\n",
            "\u001b[1m2758/2758\u001b[0m \u001b[32m━━━━━━━━━━━━━━━━━━━━\u001b[0m\u001b[37m\u001b[0m \u001b[1m26s\u001b[0m 10ms/step - accuracy: 0.6668 - loss: 0.6968 - val_accuracy: 0.6653 - val_loss: 0.7164 - learning_rate: 2.5000e-05\n",
            "Epoch 13/30\n",
            "\u001b[1m2758/2758\u001b[0m \u001b[32m━━━━━━━━━━━━━━━━━━━━\u001b[0m\u001b[37m\u001b[0m \u001b[1m26s\u001b[0m 9ms/step - accuracy: 0.6701 - loss: 0.6938 - val_accuracy: 0.6668 - val_loss: 0.7145 - learning_rate: 1.2500e-05\n",
            "Epoch 14/30\n",
            "\u001b[1m2758/2758\u001b[0m \u001b[32m━━━━━━━━━━━━━━━━━━━━\u001b[0m\u001b[37m\u001b[0m \u001b[1m26s\u001b[0m 9ms/step - accuracy: 0.6681 - loss: 0.6959 - val_accuracy: 0.6636 - val_loss: 0.7159 - learning_rate: 1.2500e-05\n",
            "Epoch 15/30\n",
            "\u001b[1m2758/2758\u001b[0m \u001b[32m━━━━━━━━━━━━━━━━━━━━\u001b[0m\u001b[37m\u001b[0m \u001b[1m26s\u001b[0m 9ms/step - accuracy: 0.6692 - loss: 0.6962 - val_accuracy: 0.6642 - val_loss: 0.7159 - learning_rate: 6.2500e-06\n",
            "\u001b[1m1379/1379\u001b[0m \u001b[32m━━━━━━━━━━━━━━━━━━━━\u001b[0m\u001b[37m\u001b[0m \u001b[1m3s\u001b[0m 2ms/step\n",
            "=== 测试集评估 ===\n",
            "              precision    recall  f1-score   support\n",
            "\n",
            "           0       0.71      0.28      0.40      9130\n",
            "           1       0.66      0.92      0.77     26073\n",
            "           2       0.70      0.32      0.44      8923\n",
            "\n",
            "    accuracy                           0.67     44126\n",
            "   macro avg       0.69      0.51      0.53     44126\n",
            "weighted avg       0.68      0.67      0.62     44126\n",
            "\n",
            "\u001b[1m5516/5516\u001b[0m \u001b[32m━━━━━━━━━━━━━━━━━━━━\u001b[0m\u001b[37m\u001b[0m \u001b[1m12s\u001b[0m 2ms/step\n",
            "=== 训练集评估 ===\n",
            "              precision    recall  f1-score   support\n",
            "\n",
            "           0       0.65      0.39      0.48     35227\n",
            "           1       0.69      0.86      0.76    105255\n",
            "           2       0.63      0.40      0.49     36021\n",
            "\n",
            "    accuracy                           0.67    176503\n",
            "   macro avg       0.65      0.55      0.58    176503\n",
            "weighted avg       0.67      0.67      0.65    176503\n",
            "\n"
          ]
        }
      ]
    },
    {
      "cell_type": "markdown",
      "source": [
        "再run一次看看稳不稳定"
      ],
      "metadata": {
        "id": "VmQwwq6QKttd"
      }
    },
    {
      "cell_type": "code",
      "source": [
        "model = build_another_deeplob(input_shape)\n",
        "model.compile(optimizer=Adam(1e-4, amsgrad=True), loss='sparse_categorical_crossentropy', metrics=['accuracy'])\n",
        "\n",
        "early_stopping = EarlyStopping(monitor='val_loss', patience=5, restore_best_weights=True)\n",
        "lr_scheduler = ReduceLROnPlateau(monitor='val_loss', factor=0.5, patience=2, min_lr=1e-6)\n",
        "\n",
        "history = model.fit(\n",
        "    X_train, y_train,\n",
        "    epochs=30,\n",
        "    batch_size=64,\n",
        "    validation_data=(X_test, y_test),\n",
        "    callbacks=[early_stopping, lr_scheduler]\n",
        ")\n",
        "\n",
        "# ========= 1. 测试集预测与评估 =========\n",
        "y_pred = model.predict(X_test)\n",
        "y_pred_label = np.argmax(y_pred, axis=1)\n",
        "\n",
        "print(\"=== 测试集评估 ===\")\n",
        "print(classification_report(y_test, y_pred_label))\n",
        "\n",
        "# ========= 2. 训练集预测与评估（用于判断过拟合） =========\n",
        "y_pred_train = model.predict(X_train)\n",
        "y_pred_train_label = np.argmax(y_pred_train, axis=1)\n",
        "\n",
        "print(\"=== 训练集评估 ===\")\n",
        "print(classification_report(y_train, y_pred_train_label))"
      ],
      "metadata": {
        "colab": {
          "base_uri": "https://localhost:8080/"
        },
        "id": "Ks49fdMiE6TO",
        "outputId": "77fcf925-3663-4a76-f414-829edc99e415"
      },
      "execution_count": 17,
      "outputs": [
        {
          "output_type": "stream",
          "name": "stdout",
          "text": [
            "Epoch 1/30\n",
            "\u001b[1m2758/2758\u001b[0m \u001b[32m━━━━━━━━━━━━━━━━━━━━\u001b[0m\u001b[37m\u001b[0m \u001b[1m30s\u001b[0m 10ms/step - accuracy: 0.6078 - loss: 0.8362 - val_accuracy: 0.6510 - val_loss: 0.7569 - learning_rate: 1.0000e-04\n",
            "Epoch 2/30\n",
            "\u001b[1m2758/2758\u001b[0m \u001b[32m━━━━━━━━━━━━━━━━━━━━\u001b[0m\u001b[37m\u001b[0m \u001b[1m26s\u001b[0m 9ms/step - accuracy: 0.6505 - loss: 0.7289 - val_accuracy: 0.6631 - val_loss: 0.7576 - learning_rate: 1.0000e-04\n",
            "Epoch 3/30\n",
            "\u001b[1m2758/2758\u001b[0m \u001b[32m━━━━━━━━━━━━━━━━━━━━\u001b[0m\u001b[37m\u001b[0m \u001b[1m26s\u001b[0m 9ms/step - accuracy: 0.6549 - loss: 0.7204 - val_accuracy: 0.6544 - val_loss: 0.7435 - learning_rate: 1.0000e-04\n",
            "Epoch 4/30\n",
            "\u001b[1m2758/2758\u001b[0m \u001b[32m━━━━━━━━━━━━━━━━━━━━\u001b[0m\u001b[37m\u001b[0m \u001b[1m26s\u001b[0m 9ms/step - accuracy: 0.6565 - loss: 0.7130 - val_accuracy: 0.6648 - val_loss: 0.7150 - learning_rate: 1.0000e-04\n",
            "Epoch 5/30\n",
            "\u001b[1m2758/2758\u001b[0m \u001b[32m━━━━━━━━━━━━━━━━━━━━\u001b[0m\u001b[37m\u001b[0m \u001b[1m27s\u001b[0m 10ms/step - accuracy: 0.6597 - loss: 0.7083 - val_accuracy: 0.6626 - val_loss: 0.7334 - learning_rate: 1.0000e-04\n",
            "Epoch 6/30\n",
            "\u001b[1m2758/2758\u001b[0m \u001b[32m━━━━━━━━━━━━━━━━━━━━\u001b[0m\u001b[37m\u001b[0m \u001b[1m27s\u001b[0m 10ms/step - accuracy: 0.6650 - loss: 0.7032 - val_accuracy: 0.6516 - val_loss: 0.7286 - learning_rate: 1.0000e-04\n",
            "Epoch 7/30\n",
            "\u001b[1m2758/2758\u001b[0m \u001b[32m━━━━━━━━━━━━━━━━━━━━\u001b[0m\u001b[37m\u001b[0m \u001b[1m27s\u001b[0m 10ms/step - accuracy: 0.6638 - loss: 0.7012 - val_accuracy: 0.6611 - val_loss: 0.7172 - learning_rate: 5.0000e-05\n",
            "Epoch 8/30\n",
            "\u001b[1m2758/2758\u001b[0m \u001b[32m━━━━━━━━━━━━━━━━━━━━\u001b[0m\u001b[37m\u001b[0m \u001b[1m27s\u001b[0m 10ms/step - accuracy: 0.6667 - loss: 0.6987 - val_accuracy: 0.6567 - val_loss: 0.7241 - learning_rate: 5.0000e-05\n",
            "Epoch 9/30\n",
            "\u001b[1m2758/2758\u001b[0m \u001b[32m━━━━━━━━━━━━━━━━━━━━\u001b[0m\u001b[37m\u001b[0m \u001b[1m26s\u001b[0m 10ms/step - accuracy: 0.6657 - loss: 0.6989 - val_accuracy: 0.6610 - val_loss: 0.7146 - learning_rate: 2.5000e-05\n",
            "Epoch 10/30\n",
            "\u001b[1m2758/2758\u001b[0m \u001b[32m━━━━━━━━━━━━━━━━━━━━\u001b[0m\u001b[37m\u001b[0m \u001b[1m26s\u001b[0m 9ms/step - accuracy: 0.6684 - loss: 0.6964 - val_accuracy: 0.6642 - val_loss: 0.7122 - learning_rate: 2.5000e-05\n",
            "Epoch 11/30\n",
            "\u001b[1m2758/2758\u001b[0m \u001b[32m━━━━━━━━━━━━━━━━━━━━\u001b[0m\u001b[37m\u001b[0m \u001b[1m26s\u001b[0m 10ms/step - accuracy: 0.6662 - loss: 0.6984 - val_accuracy: 0.6628 - val_loss: 0.7120 - learning_rate: 2.5000e-05\n",
            "Epoch 12/30\n",
            "\u001b[1m2758/2758\u001b[0m \u001b[32m━━━━━━━━━━━━━━━━━━━━\u001b[0m\u001b[37m\u001b[0m \u001b[1m26s\u001b[0m 10ms/step - accuracy: 0.6654 - loss: 0.6972 - val_accuracy: 0.6596 - val_loss: 0.7166 - learning_rate: 2.5000e-05\n",
            "Epoch 13/30\n",
            "\u001b[1m2758/2758\u001b[0m \u001b[32m━━━━━━━━━━━━━━━━━━━━\u001b[0m\u001b[37m\u001b[0m \u001b[1m26s\u001b[0m 10ms/step - accuracy: 0.6684 - loss: 0.6942 - val_accuracy: 0.6589 - val_loss: 0.7164 - learning_rate: 2.5000e-05\n",
            "Epoch 14/30\n",
            "\u001b[1m2758/2758\u001b[0m \u001b[32m━━━━━━━━━━━━━━━━━━━━\u001b[0m\u001b[37m\u001b[0m \u001b[1m27s\u001b[0m 10ms/step - accuracy: 0.6689 - loss: 0.6948 - val_accuracy: 0.6597 - val_loss: 0.7179 - learning_rate: 1.2500e-05\n",
            "Epoch 15/30\n",
            "\u001b[1m2758/2758\u001b[0m \u001b[32m━━━━━━━━━━━━━━━━━━━━\u001b[0m\u001b[37m\u001b[0m \u001b[1m26s\u001b[0m 10ms/step - accuracy: 0.6669 - loss: 0.6919 - val_accuracy: 0.6586 - val_loss: 0.7188 - learning_rate: 1.2500e-05\n",
            "Epoch 16/30\n",
            "\u001b[1m2758/2758\u001b[0m \u001b[32m━━━━━━━━━━━━━━━━━━━━\u001b[0m\u001b[37m\u001b[0m \u001b[1m26s\u001b[0m 10ms/step - accuracy: 0.6692 - loss: 0.6921 - val_accuracy: 0.6606 - val_loss: 0.7144 - learning_rate: 6.2500e-06\n",
            "\u001b[1m1379/1379\u001b[0m \u001b[32m━━━━━━━━━━━━━━━━━━━━\u001b[0m\u001b[37m\u001b[0m \u001b[1m3s\u001b[0m 2ms/step\n",
            "=== 测试集评估 ===\n",
            "              precision    recall  f1-score   support\n",
            "\n",
            "           0       0.69      0.29      0.41      9130\n",
            "           1       0.66      0.91      0.76     26073\n",
            "           2       0.67      0.33      0.45      8923\n",
            "\n",
            "    accuracy                           0.66     44126\n",
            "   macro avg       0.68      0.51      0.54     44126\n",
            "weighted avg       0.67      0.66      0.62     44126\n",
            "\n",
            "\u001b[1m5516/5516\u001b[0m \u001b[32m━━━━━━━━━━━━━━━━━━━━\u001b[0m\u001b[37m\u001b[0m \u001b[1m12s\u001b[0m 2ms/step\n",
            "=== 训练集评估 ===\n",
            "              precision    recall  f1-score   support\n",
            "\n",
            "           0       0.65      0.38      0.48     35227\n",
            "           1       0.69      0.85      0.76    105255\n",
            "           2       0.62      0.46      0.52     36021\n",
            "\n",
            "    accuracy                           0.68    176503\n",
            "   macro avg       0.65      0.56      0.59    176503\n",
            "weighted avg       0.67      0.68      0.66    176503\n",
            "\n"
          ]
        }
      ]
    },
    {
      "cell_type": "code",
      "source": [
        "# ========= 3. 绘制 Loss 和 Accuracy 曲线 =========\n",
        "plt.figure(figsize=(12, 5))\n",
        "\n",
        "# 绘制 loss\n",
        "plt.subplot(1, 2, 1)\n",
        "plt.plot(history.history['loss'], label='Train Loss')\n",
        "plt.plot(history.history['val_loss'], label='Val Loss')\n",
        "plt.title('Loss over Epochs')\n",
        "plt.xlabel('Epoch')\n",
        "plt.ylabel('Loss')\n",
        "plt.legend()\n",
        "\n",
        "# 绘制 accuracy\n",
        "plt.subplot(1, 2, 2)\n",
        "plt.plot(history.history['accuracy'], label='Train Acc')\n",
        "plt.plot(history.history['val_accuracy'], label='Val Acc')\n",
        "plt.title('Accuracy over Epochs')\n",
        "plt.xlabel('Epoch')\n",
        "plt.ylabel('Accuracy')\n",
        "plt.legend()\n",
        "\n",
        "plt.tight_layout()\n",
        "plt.show()"
      ],
      "metadata": {
        "colab": {
          "base_uri": "https://localhost:8080/",
          "height": 507
        },
        "id": "ken0bkLAHP2Z",
        "outputId": "e4b766fc-f12b-44fb-eedf-2f07b3af63a5"
      },
      "execution_count": 18,
      "outputs": [
        {
          "output_type": "display_data",
          "data": {
            "text/plain": [
              "<Figure size 1200x500 with 2 Axes>"
            ],
            "image/png": "[encoded data removed]"
          },
          "metadata": {}
        }
      ]
    },
    {
      "cell_type": "markdown",
      "source": [
        "新的model可以解决early stopping太早逼停模型训练的问题。总结一下what we've done"
      ],
      "metadata": {
        "id": "TTe88T1aJmz5"
      }
    },
    {
      "cell_type": "markdown",
      "source": [
        "| 修改项 | 内容                         | 原因                      |\n",
        "| --- | -------------------------- | ----------------------- |\n",
        "| 1   | 卷积核由 3 → 5，通道数由 64 → 128   | 捕捉更宽泛的时间特征，提高特征表达能力     |\n",
        "| 2   | Dropout → SpatialDropout1D | 更适合时间序列的通道级正则，有助于稳定训练   |\n",
        "| 3   | 添加 MaxPooling1D            | 降低 LSTM 压力，提取更具代表性的局部特征 |\n",
        "| 4   | ReLU → LeakyReLU           | 避免神经元失活问题，提高非线性拟合能力     |"
      ],
      "metadata": {
        "id": "Bq8D9nOhJ19o"
      }
    },
    {
      "cell_type": "markdown",
      "source": [
        "# Data Imbalance"
      ],
      "metadata": {
        "id": "yEf2K6NZKOKA"
      }
    },
    {
      "cell_type": "markdown",
      "source": [
        "Now we've accomplished some parts:\n",
        "1. Parameter choosing: we chose **Κ = 20, α = 1bp**\n",
        "2. Data pre-engineering: turn absolute price to **relative price**, and transform the absolute volume into **logged volume**\n",
        "3. Model architecture: add batchnormalization and dropout layer, and change some technical details to make the result in general **more stable**\n",
        "\n",
        "But there are still some problems awaiting for being solved:\n",
        "1. **Data Imbalance**, we haven't solve this problem ( the result is still dominated by label 1 )"
      ],
      "metadata": {
        "id": "QscJp6W_KQ4Z"
      }
    },
    {
      "cell_type": "markdown",
      "source": [
        "## Method 1: using focal loss instead of cross entropy. （控制难样本，提升 precision）"
      ],
      "metadata": {
        "id": "TW8L-tUqMUMf"
      }
    },
    {
      "cell_type": "code",
      "source": [
        "def focal_loss_sparse(gamma=2., alpha=[2.0, 1.0, 2.0]):\n",
        "    alpha = tf.constant(alpha, dtype=tf.float32)\n",
        "\n",
        "    def loss(y_true, y_pred):\n",
        "        y_true = tf.cast(y_true, tf.int32)\n",
        "        y_pred = tf.clip_by_value(y_pred, 1e-7, 1.0 - 1e-7)\n",
        "\n",
        "        y_true_onehot = tf.one_hot(y_true, depth=3)\n",
        "        cross_entropy = -y_true_onehot * tf.math.log(y_pred)\n",
        "        weight = tf.math.pow(1 - y_pred, gamma) * alpha\n",
        "        return tf.reduce_mean(tf.reduce_sum(weight * cross_entropy, axis=-1))\n",
        "\n",
        "    return loss"
      ],
      "metadata": {
        "id": "7e3VSF58MOSP"
      },
      "execution_count": 19,
      "outputs": []
    },
    {
      "cell_type": "code",
      "source": [
        "model = build_another_deeplob(input_shape)\n",
        "model.compile(optimizer=Adam(1e-4, amsgrad=True), loss=focal_loss_sparse(gamma=2.0, alpha=[2.0, 1.0, 2.0]), metrics=['accuracy'])\n",
        "\n",
        "early_stopping = EarlyStopping(monitor='val_loss', patience=5, restore_best_weights=True)\n",
        "lr_scheduler = ReduceLROnPlateau(monitor='val_loss', factor=0.5, patience=2, min_lr=1e-6)\n",
        "\n",
        "history = model.fit(\n",
        "    X_train, y_train,\n",
        "    epochs=30,\n",
        "    batch_size=64,\n",
        "    validation_data=(X_test, y_test),\n",
        "    callbacks=[early_stopping, lr_scheduler]\n",
        ")"
      ],
      "metadata": {
        "colab": {
          "base_uri": "https://localhost:8080/"
        },
        "id": "ktUD9KSmMOXQ",
        "outputId": "cc87d921-cffc-4c52-cff3-bb5fa44809ad"
      },
      "execution_count": 20,
      "outputs": [
        {
          "output_type": "stream",
          "name": "stdout",
          "text": [
            "Epoch 1/30\n",
            "\u001b[1m2758/2758\u001b[0m \u001b[32m━━━━━━━━━━━━━━━━━━━━\u001b[0m\u001b[37m\u001b[0m \u001b[1m31s\u001b[0m 10ms/step - accuracy: 0.5474 - loss: 0.5249 - val_accuracy: 0.6349 - val_loss: 0.4371 - learning_rate: 1.0000e-04\n",
            "Epoch 2/30\n",
            "\u001b[1m2758/2758\u001b[0m \u001b[32m━━━━━━━━━━━━━━━━━━━━\u001b[0m\u001b[37m\u001b[0m \u001b[1m27s\u001b[0m 10ms/step - accuracy: 0.5911 - loss: 0.4140 - val_accuracy: 0.6164 - val_loss: 0.4247 - learning_rate: 1.0000e-04\n",
            "Epoch 3/30\n",
            "\u001b[1m2758/2758\u001b[0m \u001b[32m━━━━━━━━━━━━━━━━━━━━\u001b[0m\u001b[37m\u001b[0m \u001b[1m27s\u001b[0m 10ms/step - accuracy: 0.5941 - loss: 0.4018 - val_accuracy: 0.6203 - val_loss: 0.4031 - learning_rate: 1.0000e-04\n",
            "Epoch 4/30\n",
            "\u001b[1m2758/2758\u001b[0m \u001b[32m━━━━━━━━━━━━━━━━━━━━\u001b[0m\u001b[37m\u001b[0m \u001b[1m27s\u001b[0m 10ms/step - accuracy: 0.5964 - loss: 0.3991 - val_accuracy: 0.6448 - val_loss: 0.4164 - learning_rate: 1.0000e-04\n",
            "Epoch 5/30\n",
            "\u001b[1m2758/2758\u001b[0m \u001b[32m━━━━━━━━━━━━━━━━━━━━\u001b[0m\u001b[37m\u001b[0m \u001b[1m27s\u001b[0m 10ms/step - accuracy: 0.6028 - loss: 0.3952 - val_accuracy: 0.6414 - val_loss: 0.4064 - learning_rate: 1.0000e-04\n",
            "Epoch 6/30\n",
            "\u001b[1m2758/2758\u001b[0m \u001b[32m━━━━━━━━━━━━━━━━━━━━\u001b[0m\u001b[37m\u001b[0m \u001b[1m27s\u001b[0m 10ms/step - accuracy: 0.6052 - loss: 0.3908 - val_accuracy: 0.6428 - val_loss: 0.4039 - learning_rate: 5.0000e-05\n",
            "Epoch 7/30\n",
            "\u001b[1m2758/2758\u001b[0m \u001b[32m━━━━━━━━━━━━━━━━━━━━\u001b[0m\u001b[37m\u001b[0m \u001b[1m27s\u001b[0m 10ms/step - accuracy: 0.6055 - loss: 0.3908 - val_accuracy: 0.6369 - val_loss: 0.4014 - learning_rate: 5.0000e-05\n",
            "Epoch 8/30\n",
            "\u001b[1m2758/2758\u001b[0m \u001b[32m━━━━━━━━━━━━━━━━━━━━\u001b[0m\u001b[37m\u001b[0m \u001b[1m27s\u001b[0m 10ms/step - accuracy: 0.6075 - loss: 0.3866 - val_accuracy: 0.6454 - val_loss: 0.4061 - learning_rate: 5.0000e-05\n",
            "Epoch 9/30\n",
            "\u001b[1m2758/2758\u001b[0m \u001b[32m━━━━━━━━━━━━━━━━━━━━\u001b[0m\u001b[37m\u001b[0m \u001b[1m27s\u001b[0m 10ms/step - accuracy: 0.6075 - loss: 0.3870 - val_accuracy: 0.6379 - val_loss: 0.4001 - learning_rate: 5.0000e-05\n",
            "Epoch 10/30\n",
            "\u001b[1m2758/2758\u001b[0m \u001b[32m━━━━━━━━━━━━━━━━━━━━\u001b[0m\u001b[37m\u001b[0m \u001b[1m28s\u001b[0m 10ms/step - accuracy: 0.6050 - loss: 0.3873 - val_accuracy: 0.6468 - val_loss: 0.4104 - learning_rate: 5.0000e-05\n",
            "Epoch 11/30\n",
            "\u001b[1m2758/2758\u001b[0m \u001b[32m━━━━━━━━━━━━━━━━━━━━\u001b[0m\u001b[37m\u001b[0m \u001b[1m27s\u001b[0m 10ms/step - accuracy: 0.6116 - loss: 0.3831 - val_accuracy: 0.6454 - val_loss: 0.3981 - learning_rate: 5.0000e-05\n",
            "Epoch 12/30\n",
            "\u001b[1m2758/2758\u001b[0m \u001b[32m━━━━━━━━━━━━━━━━━━━━\u001b[0m\u001b[37m\u001b[0m \u001b[1m27s\u001b[0m 10ms/step - accuracy: 0.6081 - loss: 0.3852 - val_accuracy: 0.6504 - val_loss: 0.4003 - learning_rate: 5.0000e-05\n",
            "Epoch 13/30\n",
            "\u001b[1m2758/2758\u001b[0m \u001b[32m━━━━━━━━━━━━━━━━━━━━\u001b[0m\u001b[37m\u001b[0m \u001b[1m27s\u001b[0m 10ms/step - accuracy: 0.6088 - loss: 0.3838 - val_accuracy: 0.6355 - val_loss: 0.4030 - learning_rate: 5.0000e-05\n",
            "Epoch 14/30\n",
            "\u001b[1m2758/2758\u001b[0m \u001b[32m━━━━━━━━━━━━━━━━━━━━\u001b[0m\u001b[37m\u001b[0m \u001b[1m27s\u001b[0m 10ms/step - accuracy: 0.6079 - loss: 0.3803 - val_accuracy: 0.6494 - val_loss: 0.3993 - learning_rate: 2.5000e-05\n",
            "Epoch 15/30\n",
            "\u001b[1m2758/2758\u001b[0m \u001b[32m━━━━━━━━━━━━━━━━━━━━\u001b[0m\u001b[37m\u001b[0m \u001b[1m27s\u001b[0m 10ms/step - accuracy: 0.6126 - loss: 0.3830 - val_accuracy: 0.6452 - val_loss: 0.3984 - learning_rate: 2.5000e-05\n",
            "Epoch 16/30\n",
            "\u001b[1m2758/2758\u001b[0m \u001b[32m━━━━━━━━━━━━━━━━━━━━\u001b[0m\u001b[37m\u001b[0m \u001b[1m27s\u001b[0m 10ms/step - accuracy: 0.6108 - loss: 0.3792 - val_accuracy: 0.6457 - val_loss: 0.3995 - learning_rate: 1.2500e-05\n"
          ]
        }
      ]
    },
    {
      "cell_type": "code",
      "source": [
        "# ========= 1. 测试集预测与评估 =========\n",
        "y_pred = model.predict(X_test)\n",
        "y_pred_label = np.argmax(y_pred, axis=1)\n",
        "\n",
        "print(\"=== 测试集评估 ===\")\n",
        "print(classification_report(y_test, y_pred_label))\n",
        "\n",
        "# ========= 2. 训练集预测与评估（用于判断过拟合） =========\n",
        "y_pred_train = model.predict(X_train)\n",
        "y_pred_train_label = np.argmax(y_pred_train, axis=1)\n",
        "\n",
        "print(\"=== 训练集评估 ===\")\n",
        "print(classification_report(y_train, y_pred_train_label))"
      ],
      "metadata": {
        "colab": {
          "base_uri": "https://localhost:8080/"
        },
        "id": "IQbREZaGMOZe",
        "outputId": "76b192d3-3b06-45be-c2d5-62ceb78c9368"
      },
      "execution_count": 21,
      "outputs": [
        {
          "output_type": "stream",
          "name": "stdout",
          "text": [
            "\u001b[1m1379/1379\u001b[0m \u001b[32m━━━━━━━━━━━━━━━━━━━━\u001b[0m\u001b[37m\u001b[0m \u001b[1m3s\u001b[0m 2ms/step\n",
            "=== 测试集评估 ===\n",
            "              precision    recall  f1-score   support\n",
            "\n",
            "           0       0.53      0.57      0.55      9130\n",
            "           1       0.72      0.69      0.70     26073\n",
            "           2       0.57      0.59      0.58      8923\n",
            "\n",
            "    accuracy                           0.65     44126\n",
            "   macro avg       0.61      0.62      0.61     44126\n",
            "weighted avg       0.65      0.65      0.65     44126\n",
            "\n",
            "\u001b[1m5516/5516\u001b[0m \u001b[32m━━━━━━━━━━━━━━━━━━━━\u001b[0m\u001b[37m\u001b[0m \u001b[1m12s\u001b[0m 2ms/step\n",
            "=== 训练集评估 ===\n",
            "              precision    recall  f1-score   support\n",
            "\n",
            "           0       0.49      0.67      0.57     35227\n",
            "           1       0.76      0.58      0.66    105255\n",
            "           2       0.52      0.68      0.59     36021\n",
            "\n",
            "    accuracy                           0.62    176503\n",
            "   macro avg       0.59      0.65      0.61    176503\n",
            "weighted avg       0.66      0.62      0.63    176503\n",
            "\n"
          ]
        }
      ]
    },
    {
      "cell_type": "markdown",
      "source": [
        "以降低precision的代价提高了recall"
      ],
      "metadata": {
        "id": "LNCYrHikOFHd"
      }
    },
    {
      "cell_type": "markdown",
      "source": [
        "## Method 2: Oversampling"
      ],
      "metadata": {
        "id": "4J8sKdXSOsis"
      }
    },
    {
      "cell_type": "code",
      "source": [
        "from collections import Counter\n",
        "from sklearn.utils import resample\n",
        "\n",
        "def balance_classes(X, y):\n",
        "    X_new, y_new = [], []\n",
        "    class_counts = Counter(y)\n",
        "\n",
        "    max_class = max(class_counts, key=class_counts.get)\n",
        "    max_count = class_counts[max_class]\n",
        "\n",
        "    for c in np.unique(y):\n",
        "        X_c = X[y == c]\n",
        "        y_c = y[y == c]\n",
        "\n",
        "        # 只对类0和类2进行 oversample\n",
        "        if c in [0, 2]:\n",
        "            X_c_resampled, y_c_resampled = resample(X_c, y_c,\n",
        "                                                    replace=True,\n",
        "                                                    n_samples=max_count,\n",
        "                                                    random_state=42)\n",
        "        else:\n",
        "            X_c_resampled, y_c_resampled = X_c, y_c\n",
        "\n",
        "        X_new.append(X_c_resampled)\n",
        "        y_new.append(y_c_resampled)\n",
        "\n",
        "    return np.concatenate(X_new), np.concatenate(y_new)\n",
        "\n",
        "# 使用方法\n",
        "X_balanced, y_balanced = balance_classes(X_train, y_train)"
      ],
      "metadata": {
        "id": "PqUfHWDcOEmp"
      },
      "execution_count": 22,
      "outputs": []
    },
    {
      "cell_type": "code",
      "source": [
        "model = build_another_deeplob(input_shape)\n",
        "model.compile(optimizer=Adam(1e-4, amsgrad=True), loss='sparse_categorical_crossentropy', metrics=['accuracy'])\n",
        "\n",
        "early_stopping = EarlyStopping(monitor='val_loss', patience=5, restore_best_weights=True)\n",
        "lr_scheduler = ReduceLROnPlateau(monitor='val_loss', factor=0.5, patience=2, min_lr=1e-6)\n",
        "\n",
        "history = model.fit(\n",
        "    X_balanced, y_balanced,\n",
        "    epochs=30,\n",
        "    batch_size=64,\n",
        "    validation_data=(X_test, y_test),\n",
        "    callbacks=[early_stopping, lr_scheduler]\n",
        ")"
      ],
      "metadata": {
        "colab": {
          "base_uri": "https://localhost:8080/"
        },
        "id": "vc88ioBbMOb0",
        "outputId": "90d8b5e1-ce69-4263-b1de-d387a0fc4bfe"
      },
      "execution_count": 23,
      "outputs": [
        {
          "output_type": "stream",
          "name": "stdout",
          "text": [
            "Epoch 1/30\n",
            "\u001b[1m4934/4934\u001b[0m \u001b[32m━━━━━━━━━━━━━━━━━━━━\u001b[0m\u001b[37m\u001b[0m \u001b[1m48s\u001b[0m 9ms/step - accuracy: 0.5818 - loss: 0.8647 - val_accuracy: 0.5437 - val_loss: 0.8235 - learning_rate: 1.0000e-04\n",
            "Epoch 2/30\n",
            "\u001b[1m4934/4934\u001b[0m \u001b[32m━━━━━━━━━━━━━━━━━━━━\u001b[0m\u001b[37m\u001b[0m \u001b[1m45s\u001b[0m 9ms/step - accuracy: 0.6498 - loss: 0.7517 - val_accuracy: 0.5227 - val_loss: 0.8396 - learning_rate: 1.0000e-04\n",
            "Epoch 3/30\n",
            "\u001b[1m4934/4934\u001b[0m \u001b[32m━━━━━━━━━━━━━━━━━━━━\u001b[0m\u001b[37m\u001b[0m \u001b[1m45s\u001b[0m 9ms/step - accuracy: 0.6570 - loss: 0.7392 - val_accuracy: 0.5630 - val_loss: 0.7990 - learning_rate: 1.0000e-04\n",
            "Epoch 4/30\n",
            "\u001b[1m4934/4934\u001b[0m \u001b[32m━━━━━━━━━━━━━━━━━━━━\u001b[0m\u001b[37m\u001b[0m \u001b[1m45s\u001b[0m 9ms/step - accuracy: 0.6601 - loss: 0.7315 - val_accuracy: 0.5564 - val_loss: 0.8143 - learning_rate: 1.0000e-04\n",
            "Epoch 5/30\n",
            "\u001b[1m4934/4934\u001b[0m \u001b[32m━━━━━━━━━━━━━━━━━━━━\u001b[0m\u001b[37m\u001b[0m \u001b[1m45s\u001b[0m 9ms/step - accuracy: 0.6626 - loss: 0.7275 - val_accuracy: 0.5858 - val_loss: 0.7806 - learning_rate: 1.0000e-04\n",
            "Epoch 6/30\n",
            "\u001b[1m4934/4934\u001b[0m \u001b[32m━━━━━━━━━━━━━━━━━━━━\u001b[0m\u001b[37m\u001b[0m \u001b[1m45s\u001b[0m 9ms/step - accuracy: 0.6647 - loss: 0.7208 - val_accuracy: 0.5829 - val_loss: 0.7822 - learning_rate: 1.0000e-04\n",
            "Epoch 7/30\n",
            "\u001b[1m4934/4934\u001b[0m \u001b[32m━━━━━━━━━━━━━━━━━━━━\u001b[0m\u001b[37m\u001b[0m \u001b[1m45s\u001b[0m 9ms/step - accuracy: 0.6667 - loss: 0.7162 - val_accuracy: 0.5730 - val_loss: 0.8040 - learning_rate: 1.0000e-04\n",
            "Epoch 8/30\n",
            "\u001b[1m4934/4934\u001b[0m \u001b[32m━━━━━━━━━━━━━━━━━━━━\u001b[0m\u001b[37m\u001b[0m \u001b[1m45s\u001b[0m 9ms/step - accuracy: 0.6739 - loss: 0.7046 - val_accuracy: 0.5912 - val_loss: 0.7806 - learning_rate: 5.0000e-05\n",
            "Epoch 9/30\n",
            "\u001b[1m4934/4934\u001b[0m \u001b[32m━━━━━━━━━━━━━━━━━━━━\u001b[0m\u001b[37m\u001b[0m \u001b[1m45s\u001b[0m 9ms/step - accuracy: 0.6765 - loss: 0.7004 - val_accuracy: 0.5643 - val_loss: 0.8091 - learning_rate: 5.0000e-05\n",
            "Epoch 10/30\n",
            "\u001b[1m4934/4934\u001b[0m \u001b[32m━━━━━━━━━━━━━━━━━━━━\u001b[0m\u001b[37m\u001b[0m \u001b[1m45s\u001b[0m 9ms/step - accuracy: 0.6790 - loss: 0.6963 - val_accuracy: 0.6095 - val_loss: 0.7717 - learning_rate: 2.5000e-05\n",
            "Epoch 11/30\n",
            "\u001b[1m4934/4934\u001b[0m \u001b[32m━━━━━━━━━━━━━━━━━━━━\u001b[0m\u001b[37m\u001b[0m \u001b[1m45s\u001b[0m 9ms/step - accuracy: 0.6794 - loss: 0.6920 - val_accuracy: 0.5922 - val_loss: 0.7850 - learning_rate: 2.5000e-05\n",
            "Epoch 12/30\n",
            "\u001b[1m4934/4934\u001b[0m \u001b[32m━━━━━━━━━━━━━━━━━━━━\u001b[0m\u001b[37m\u001b[0m \u001b[1m45s\u001b[0m 9ms/step - accuracy: 0.6829 - loss: 0.6879 - val_accuracy: 0.5877 - val_loss: 0.7910 - learning_rate: 2.5000e-05\n",
            "Epoch 13/30\n",
            "\u001b[1m4934/4934\u001b[0m \u001b[32m━━━━━━━━━━━━━━━━━━━━\u001b[0m\u001b[37m\u001b[0m \u001b[1m45s\u001b[0m 9ms/step - accuracy: 0.6822 - loss: 0.6880 - val_accuracy: 0.5944 - val_loss: 0.7877 - learning_rate: 1.2500e-05\n",
            "Epoch 14/30\n",
            "\u001b[1m4934/4934\u001b[0m \u001b[32m━━━━━━━━━━━━━━━━━━━━\u001b[0m\u001b[37m\u001b[0m \u001b[1m45s\u001b[0m 9ms/step - accuracy: 0.6836 - loss: 0.6855 - val_accuracy: 0.5965 - val_loss: 0.7879 - learning_rate: 1.2500e-05\n",
            "Epoch 15/30\n",
            "\u001b[1m4934/4934\u001b[0m \u001b[32m━━━━━━━━━━━━━━━━━━━━\u001b[0m\u001b[37m\u001b[0m \u001b[1m45s\u001b[0m 9ms/step - accuracy: 0.6828 - loss: 0.6846 - val_accuracy: 0.6048 - val_loss: 0.7815 - learning_rate: 6.2500e-06\n"
          ]
        }
      ]
    },
    {
      "cell_type": "code",
      "source": [
        "# ========= 1. 测试集预测与评估 =========\n",
        "y_pred = model.predict(X_test)\n",
        "y_pred_label = np.argmax(y_pred, axis=1)\n",
        "\n",
        "print(\"=== 测试集评估 ===\")\n",
        "print(classification_report(y_test, y_pred_label))\n",
        "\n",
        "# ========= 2. 训练集预测与评估（用于判断过拟合） =========\n",
        "y_pred_train = model.predict(X_train)\n",
        "y_pred_train_label = np.argmax(y_pred_train, axis=1)\n",
        "\n",
        "print(\"=== 训练集评估 ===\")\n",
        "print(classification_report(y_train, y_pred_train_label))"
      ],
      "metadata": {
        "colab": {
          "base_uri": "https://localhost:8080/"
        },
        "id": "HkQPOKQBMOeR",
        "outputId": "e09b5090-2a1f-4cbd-f712-53828201adea"
      },
      "execution_count": 24,
      "outputs": [
        {
          "output_type": "stream",
          "name": "stdout",
          "text": [
            "\u001b[1m1379/1379\u001b[0m \u001b[32m━━━━━━━━━━━━━━━━━━━━\u001b[0m\u001b[37m\u001b[0m \u001b[1m3s\u001b[0m 2ms/step\n",
            "=== 测试集评估 ===\n",
            "              precision    recall  f1-score   support\n",
            "\n",
            "           0       0.50      0.64      0.56      9130\n",
            "           1       0.75      0.55      0.64     26073\n",
            "           2       0.50      0.74      0.59      8923\n",
            "\n",
            "    accuracy                           0.61     44126\n",
            "   macro avg       0.58      0.65      0.60     44126\n",
            "weighted avg       0.65      0.61      0.61     44126\n",
            "\n",
            "\u001b[1m5516/5516\u001b[0m \u001b[32m━━━━━━━━━━━━━━━━━━━━\u001b[0m\u001b[37m\u001b[0m \u001b[1m12s\u001b[0m 2ms/step\n",
            "=== 训练集评估 ===\n",
            "              precision    recall  f1-score   support\n",
            "\n",
            "           0       0.51      0.73      0.60     35227\n",
            "           1       0.82      0.51      0.63    105255\n",
            "           2       0.49      0.83      0.62     36021\n",
            "\n",
            "    accuracy                           0.62    176503\n",
            "   macro avg       0.61      0.69      0.61    176503\n",
            "weighted avg       0.69      0.62      0.62    176503\n",
            "\n"
          ]
        }
      ]
    },
    {
      "cell_type": "markdown",
      "source": [
        "## Method 3: Class Weight"
      ],
      "metadata": {
        "id": "iXXNtZq6Ms17"
      }
    },
    {
      "cell_type": "code",
      "source": [
        "from sklearn.utils import class_weight\n",
        "\n",
        "class_weights = class_weight.compute_class_weight(class_weight='balanced', classes=np.unique(y_train), y=y_train)\n",
        "class_weight_dict = {i: w for i, w in enumerate(class_weights)}\n",
        "\n",
        "model = build_another_deeplob(input_shape)\n",
        "model.compile(optimizer=Adam(1e-4, amsgrad=True), loss='sparse_categorical_crossentropy', metrics=['accuracy'])\n",
        "\n",
        "early_stopping = EarlyStopping(monitor='val_loss', patience=5, restore_best_weights=True)\n",
        "lr_scheduler = ReduceLROnPlateau(monitor='val_loss', factor=0.5, patience=2, min_lr=1e-6)\n",
        "\n",
        "history = model.fit(\n",
        "    X_train, y_train,\n",
        "    epochs=30,\n",
        "    batch_size=64,\n",
        "    validation_data=(X_test, y_test),\n",
        "    callbacks=[early_stopping, lr_scheduler],\n",
        "    class_weight=class_weight_dict\n",
        ")\n",
        "\n",
        "# ========= 1. 测试集预测与评估 =========\n",
        "y_pred = model.predict(X_test)\n",
        "y_pred_label = np.argmax(y_pred, axis=1)\n",
        "\n",
        "print(\"=== 测试集评估 ===\")\n",
        "print(classification_report(y_test, y_pred_label))\n",
        "\n",
        "# ========= 2. 训练集预测与评估（用于判断过拟合） =========\n",
        "y_pred_train = model.predict(X_train)\n",
        "y_pred_train_label = np.argmax(y_pred_train, axis=1)\n",
        "\n",
        "print(\"=== 训练集评估 ===\")\n",
        "print(classification_report(y_train, y_pred_train_label))"
      ],
      "metadata": {
        "colab": {
          "base_uri": "https://localhost:8080/"
        },
        "id": "rxeyYy4R0qFy",
        "outputId": "4bcde9e7-61af-4ad8-f958-cd335588c55f"
      },
      "execution_count": 25,
      "outputs": [
        {
          "output_type": "stream",
          "name": "stdout",
          "text": [
            "Epoch 1/30\n",
            "\u001b[1m2758/2758\u001b[0m \u001b[32m━━━━━━━━━━━━━━━━━━━━\u001b[0m\u001b[37m\u001b[0m \u001b[1m31s\u001b[0m 10ms/step - accuracy: 0.4905 - loss: 0.9049 - val_accuracy: 0.5740 - val_loss: 0.8126 - learning_rate: 1.0000e-04\n",
            "Epoch 2/30\n",
            "\u001b[1m2758/2758\u001b[0m \u001b[32m━━━━━━━━━━━━━━━━━━━━\u001b[0m\u001b[37m\u001b[0m \u001b[1m27s\u001b[0m 10ms/step - accuracy: 0.5377 - loss: 0.7666 - val_accuracy: 0.5446 - val_loss: 0.8338 - learning_rate: 1.0000e-04\n",
            "Epoch 3/30\n",
            "\u001b[1m2758/2758\u001b[0m \u001b[32m━━━━━━━━━━━━━━━━━━━━\u001b[0m\u001b[37m\u001b[0m \u001b[1m27s\u001b[0m 10ms/step - accuracy: 0.5435 - loss: 0.7514 - val_accuracy: 0.5745 - val_loss: 0.7921 - learning_rate: 1.0000e-04\n",
            "Epoch 4/30\n",
            "\u001b[1m2758/2758\u001b[0m \u001b[32m━━━━━━━━━━━━━━━━━━━━\u001b[0m\u001b[37m\u001b[0m \u001b[1m27s\u001b[0m 10ms/step - accuracy: 0.5481 - loss: 0.7459 - val_accuracy: 0.5583 - val_loss: 0.8231 - learning_rate: 1.0000e-04\n",
            "Epoch 5/30\n",
            "\u001b[1m2758/2758\u001b[0m \u001b[32m━━━━━━━━━━━━━━━━━━━━\u001b[0m\u001b[37m\u001b[0m \u001b[1m27s\u001b[0m 10ms/step - accuracy: 0.5488 - loss: 0.7457 - val_accuracy: 0.5716 - val_loss: 0.7978 - learning_rate: 1.0000e-04\n",
            "Epoch 6/30\n",
            "\u001b[1m2758/2758\u001b[0m \u001b[32m━━━━━━━━━━━━━━━━━━━━\u001b[0m\u001b[37m\u001b[0m \u001b[1m27s\u001b[0m 10ms/step - accuracy: 0.5524 - loss: 0.7384 - val_accuracy: 0.5962 - val_loss: 0.7678 - learning_rate: 5.0000e-05\n",
            "Epoch 7/30\n",
            "\u001b[1m2758/2758\u001b[0m \u001b[32m━━━━━━━━━━━━━━━━━━━━\u001b[0m\u001b[37m\u001b[0m \u001b[1m27s\u001b[0m 10ms/step - accuracy: 0.5520 - loss: 0.7385 - val_accuracy: 0.6028 - val_loss: 0.7573 - learning_rate: 5.0000e-05\n",
            "Epoch 8/30\n",
            "\u001b[1m2758/2758\u001b[0m \u001b[32m━━━━━━━━━━━━━━━━━━━━\u001b[0m\u001b[37m\u001b[0m \u001b[1m27s\u001b[0m 10ms/step - accuracy: 0.5540 - loss: 0.7357 - val_accuracy: 0.6051 - val_loss: 0.7704 - learning_rate: 5.0000e-05\n",
            "Epoch 9/30\n",
            "\u001b[1m2758/2758\u001b[0m \u001b[32m━━━━━━━━━━━━━━━━━━━━\u001b[0m\u001b[37m\u001b[0m \u001b[1m27s\u001b[0m 10ms/step - accuracy: 0.5548 - loss: 0.7363 - val_accuracy: 0.5898 - val_loss: 0.7749 - learning_rate: 5.0000e-05\n",
            "Epoch 10/30\n",
            "\u001b[1m2758/2758\u001b[0m \u001b[32m━━━━━━━━━━━━━━━━━━━━\u001b[0m\u001b[37m\u001b[0m \u001b[1m27s\u001b[0m 10ms/step - accuracy: 0.5594 - loss: 0.7312 - val_accuracy: 0.5830 - val_loss: 0.7802 - learning_rate: 2.5000e-05\n",
            "Epoch 11/30\n",
            "\u001b[1m2758/2758\u001b[0m \u001b[32m━━━━━━━━━━━━━━━━━━━━\u001b[0m\u001b[37m\u001b[0m \u001b[1m27s\u001b[0m 10ms/step - accuracy: 0.5547 - loss: 0.7321 - val_accuracy: 0.5849 - val_loss: 0.7765 - learning_rate: 2.5000e-05\n",
            "Epoch 12/30\n",
            "\u001b[1m2758/2758\u001b[0m \u001b[32m━━━━━━━━━━━━━━━━━━━━\u001b[0m\u001b[37m\u001b[0m \u001b[1m27s\u001b[0m 10ms/step - accuracy: 0.5578 - loss: 0.7270 - val_accuracy: 0.5967 - val_loss: 0.7691 - learning_rate: 1.2500e-05\n",
            "\u001b[1m1379/1379\u001b[0m \u001b[32m━━━━━━━━━━━━━━━━━━━━\u001b[0m\u001b[37m\u001b[0m \u001b[1m3s\u001b[0m 2ms/step\n",
            "=== 测试集评估 ===\n",
            "              precision    recall  f1-score   support\n",
            "\n",
            "           0       0.47      0.72      0.57      9130\n",
            "           1       0.74      0.54      0.63     26073\n",
            "           2       0.53      0.65      0.59      8923\n",
            "\n",
            "    accuracy                           0.60     44126\n",
            "   macro avg       0.58      0.64      0.59     44126\n",
            "weighted avg       0.64      0.60      0.61     44126\n",
            "\n",
            "\u001b[1m5516/5516\u001b[0m \u001b[32m━━━━━━━━━━━━━━━━━━━━\u001b[0m\u001b[37m\u001b[0m \u001b[1m12s\u001b[0m 2ms/step\n",
            "=== 训练集评估 ===\n",
            "              precision    recall  f1-score   support\n",
            "\n",
            "           0       0.44      0.79      0.57     35227\n",
            "           1       0.79      0.47      0.59    105255\n",
            "           2       0.50      0.72      0.59     36021\n",
            "\n",
            "    accuracy                           0.58    176503\n",
            "   macro avg       0.58      0.66      0.58    176503\n",
            "weighted avg       0.66      0.58      0.58    176503\n",
            "\n"
          ]
        }
      ]
    },
    {
      "cell_type": "markdown",
      "source": [
        "which however, only improves the recall score at the price of precision rate."
      ],
      "metadata": {
        "id": "kewKcmbiVrrU"
      }
    },
    {
      "cell_type": "code",
      "source": [],
      "metadata": {
        "id": "ZNMCi7jPHPzq"
      },
      "execution_count": null,
      "outputs": []
    },
    {
      "cell_type": "code",
      "source": [],
      "metadata": {
        "id": "qXvb1mkkHPw-"
      },
      "execution_count": null,
      "outputs": []
    },
    {
      "cell_type": "code",
      "source": [],
      "metadata": {
        "id": "32Uj_obWHPU4"
      },
      "execution_count": null,
      "outputs": []
    }
  ]
}